{
 "cells": [
  {
   "cell_type": "code",
   "execution_count": 5,
   "metadata": {},
   "outputs": [],
   "source": [
    "import numpy as np \n",
    "import pandas as pd \n",
    "import matplotlib.pyplot as plt "
   ]
  },
  {
   "cell_type": "code",
   "execution_count": 6,
   "metadata": {},
   "outputs": [
    {
     "name": "stdout",
     "output_type": "stream",
     "text": [
      "      ervaring  500_split  2k tijd  binary_trainingtype  binary_geslacht  \\\n",
      "0            1    104.600    379.9                    0                0   \n",
      "1            1    104.700    379.9                    0                0   \n",
      "2            1    104.300    379.9                    0                0   \n",
      "3            1    104.000    379.9                    0                0   \n",
      "4            1    104.100    379.9                    0                0   \n",
      "...        ...        ...      ...                  ...              ...   \n",
      "4309         0    120.400    484.1               101110                1   \n",
      "4310         1     96.975    382.8                 1100                0   \n",
      "4311         1    101.600    382.8                 1100                0   \n",
      "4312         1     99.775    399.1               101111                0   \n",
      "4313         1     94.250    377.0               101111                0   \n",
      "\n",
      "      binary_gewichtsklasse  \n",
      "0                         1  \n",
      "1                         1  \n",
      "2                         1  \n",
      "3                         1  \n",
      "4                         1  \n",
      "...                     ...  \n",
      "4309                      0  \n",
      "4310                      1  \n",
      "4311                      1  \n",
      "4312                      1  \n",
      "4313                      1  \n",
      "\n",
      "[4314 rows x 6 columns]\n"
     ]
    }
   ],
   "source": [
    "# # Data inladen\n",
    "df = pd.read_csv(\"final_df.csv\")\n",
    "print(df)\n",
    "\n",
    "# # Apply One-Hot Encoding for the 'binary_trainingtype' column\n",
    "# df = pd.get_dummies(df, columns=['binary_trainingtype'], drop_first=False)\n",
    "\n",
    "# # Convert boolean columns to 0 and 1\n",
    "# df[df.columns[df.columns.str.startswith('binary_trainingtype')]] = df[df.columns[df.columns.str.startswith('binary_trainingtype')]].astype(int)\n",
    "\n",
    "# # Display the updated DataFrame\n",
    "# print(df.head())"
   ]
  },
  {
   "cell_type": "code",
   "execution_count": 7,
   "metadata": {},
   "outputs": [],
   "source": [
    "# https://www.youtube.com/watch?v=sIEH6SNNg7k \n",
    "\n",
    "# from sklearn.preprocessing import MinMaxScaler\n",
    "# from sklearn.model_selection import train_test_split\n",
    "# from sklearn.neural_network import MLPRegressor\n",
    "# from sklearn.model_selection import GridSearchCV\n",
    "\n",
    "# df_X = df.drop(columns=['2k tijd'])\n",
    "# y = df['2k tijd']\n",
    "\n",
    "# sc = MinMaxScaler()\n",
    "# norm_df_X = sc.fit_transform(df_X)\n",
    "# norm_y = sc.fit_transform(y.values.reshape(-1, 1))\n",
    "\n",
    "# train_X, valid_X, train_y, valid_y = train_test_split(norm_df_X, norm_y, test_size=0.3, random_state=1)\n",
    "\n",
    "# car_lm = MLPRegressor(hidden_layer_sizes=(64,32), \n",
    "#                       activation='relu',\n",
    "#                       solver='adam',\n",
    "#                       random_state=1,\n",
    "#                       max_iter=3000)\n",
    "# car_lm.fit(train_X, train_y.ravel())\n",
    "# car_lm.score(valid_X, valid_y)\n",
    "\n",
    "# param_grid = {\n",
    "#     'hidden_layer_sizes': [(64,32), (128, 64)],\n",
    "#     'solver': ['adam', 'lbfgs'],\n",
    "#     'activation': ['relu'],\n",
    "#     'max_iter': [3000, 5000]\n",
    "# }\n",
    "\n",
    "# gridSearch = GridSearchCV(MLPRegressor(), param_grid, \n",
    "#                           cv=5, n_jobs=-1,\n",
    "#                           return_train_score=True)\n",
    "# gridSearch.fit(train_X, train_y.ravel())\n",
    "\n",
    "# print('Best score: ', gridSearch.best_score_,\n",
    "#       '\\nBest parameters: ', gridSearch.best_params_)\n",
    "\n",
    "# display=['param_hidden_layer_sizes', 'param_solver', 'param_max_iter', 'mean_test_score', 'mean_train_score']\n",
    "# print(pd.DataFrame(gridSearch.cv_results_)[display])"
   ]
  },
  {
   "cell_type": "code",
   "execution_count": 8,
   "metadata": {},
   "outputs": [
    {
     "name": "stdout",
     "output_type": "stream",
     "text": [
      "Trainingsdata: 3018 rijen\n",
      "Validatiedata: 905 rijen\n",
      "Testdata: 391 rijen\n"
     ]
    }
   ],
   "source": [
    "from sklearn.model_selection import train_test_split\n",
    "\n",
    "# Eerst de data opschudden om bias te voorkomen\n",
    "df = df.sample(frac=1, random_state=42).reset_index(drop=True)\n",
    "\n",
    "# Zorg ervoor dat elke ervaring, geslacht en gewichtsklasse in elke set vertegenwoordigd zijn\n",
    "train_data = pd.DataFrame()\n",
    "val_data = pd.DataFrame()\n",
    "test_data = pd.DataFrame()\n",
    "\n",
    "for ervaring in df['ervaring'].unique():\n",
    "    for geslacht in df['binary_geslacht'].unique():\n",
    "        for gewichtsklasse in df['binary_gewichtsklasse'].unique():\n",
    "            subset = df[(df['ervaring'] == ervaring) & (df['binary_geslacht'] == geslacht) & (df['binary_gewichtsklasse'] == gewichtsklasse)]\n",
    "            if not subset.empty:\n",
    "                temp_train, temp_temp = train_test_split(subset, test_size=0.3, random_state=42)\n",
    "                temp_val, temp_test = train_test_split(temp_temp, test_size=0.3, random_state=42)\n",
    "                train_data = pd.concat([train_data, temp_train])\n",
    "                val_data = pd.concat([val_data, temp_val])\n",
    "                test_data = pd.concat([test_data, temp_test])\n",
    "\n",
    "# Reset indexen\n",
    "train_data.reset_index(drop=True, inplace=True)\n",
    "val_data.reset_index(drop=True, inplace=True)\n",
    "test_data.reset_index(drop=True, inplace=True)\n",
    "\n",
    "# Controleren op juiste verdeling\n",
    "print(f\"Trainingsdata: {len(train_data)} rijen\")\n",
    "print(f\"Validatiedata: {len(val_data)} rijen\")\n",
    "print(f\"Testdata: {len(test_data)} rijen\")\n",
    "\n",
    "X_train = train_data.drop(columns=['2k tijd'])\n",
    "y_train = train_data['2k tijd']\n",
    "X_val = val_data.drop(columns=['2k tijd'])\n",
    "y_val = val_data['2k tijd']\n",
    "X_test = test_data.drop(columns=['2k tijd'])\n",
    "y_test = test_data['2k tijd']"
   ]
  },
  {
   "cell_type": "raw",
   "metadata": {
    "vscode": {
     "languageId": "raw"
    }
   },
   "source": [
    "Multi-layer Perceptron is sensitive to feature scaling, so it is highly recommended to scale your data. \n",
    "For example, scale each attribute on the input vector X to [0, 1] or [-1, +1], or standardize it to have mean 0 and variance 1. \n",
    "Note that you must apply the same scaling to the test set for meaningful results. You can use StandardScaler for standardization.\n",
    "\n",
    "MLPRegressor: https://scikit-learn.org/1.5/modules/generated/sklearn.neural_network.MLPRegressor.html#sklearn.neural_network.MLPRegressor \n",
    "\n",
    "- The default solver 'adam' works pretty well on relatively large datasets (with thousands of training samples or more) in terms of both training time and validation score.\n",
    "    (-> Ik heb ook de solver 'lbfgs' geprobeerd maar die duurt heel erg lang om te runnen)"
   ]
  },
  {
   "cell_type": "code",
   "execution_count": 9,
   "metadata": {},
   "outputs": [
    {
     "name": "stdout",
     "output_type": "stream",
     "text": [
      "Validation MSE: 112.76\n",
      "Validation R^2: 0.89\n",
      "Test MSE: 116.63\n",
      "Test R^2: 0.89\n",
      "   Actual 2k tijd  Predicted 2k tijd  Difference\n",
      "0           427.7         425.290081    2.409919\n",
      "1           420.5         426.287535   -5.787535\n",
      "2           418.6         419.809892   -1.209892\n",
      "3           427.7         425.752208    1.947792\n",
      "4           427.7         429.758909   -2.058909\n",
      "5           420.5         425.966265   -5.466265\n",
      "6           421.9         425.771876   -3.871876\n",
      "7           449.0         425.191347   23.808653\n",
      "8           431.6         426.316276    5.283724\n",
      "9           431.6         425.031490    6.568510\n"
     ]
    },
    {
     "data": {
      "image/png": "[encoded data removed]",
      "text/plain": [
       "<Figure size 1000x600 with 1 Axes>"
      ]
     },
     "metadata": {},
     "output_type": "display_data"
    },
    {
     "data": {
      "image/png": "[encoded data removed]",
      "text/plain": [
       "<Figure size 1000x600 with 1 Axes>"
      ]
     },
     "metadata": {},
     "output_type": "display_data"
    },
    {
     "data": {
      "image/png": "[encoded data removed]",
      "text/plain": [
       "<Figure size 1000x600 with 1 Axes>"
      ]
     },
     "metadata": {},
     "output_type": "display_data"
    },
    {
     "data": {
      "application/vnd.plotly.v1+json": {
       "config": {
        "plotlyServerURL": "https://plot.ly"
       },
       "data": [
        {
         "hovertemplate": "x=%{x}<br>y=%{y}<extra></extra>",
         "legendgroup": "",
         "marker": {
          "color": "#636efa",
          "symbol": "circle"
         },
         "mode": "markers",
         "name": "",
         "orientation": "v",
         "showlegend": false,
         "type": "scatter",
         "x": [
          427.7,
          420.5,
          418.6,
          427.7,
          427.7,
          420.5,
          421.9,
          449,
          431.6,
          431.6,
          412.5,
          420.5,
          420.5,
          420.8,
          449,
          432.4,
          449,
          449,
          419,
          420.5,
          402.7,
          420.3,
          418.6,
          431.6,
          411.4,
          431.6,
          449,
          428.3,
          431.6,
          428.3,
          420.3,
          429.2,
          405.5,
          423.2,
          420.8,
          418.6,
          415.6,
          419.3,
          415.6,
          428.3,
          405.5,
          428.3,
          432.4,
          439.7,
          418.6,
          429.2,
          439.7,
          415.6,
          419.3,
          419.3,
          428.3,
          420.3,
          415.6,
          415.6,
          405.5,
          420.5,
          427.7,
          431.6,
          409.9,
          423.4,
          410.6,
          397.2,
          406.7,
          410.6,
          407.2,
          415.2,
          401.6,
          423.2,
          396.2,
          416.7,
          400,
          414.6,
          401.2,
          409.9,
          410.6,
          402.7,
          410.6,
          419.4,
          409.9,
          407.2,
          408.4,
          402.7,
          400.2,
          397.2,
          412.3,
          391.2,
          398.6,
          411.8,
          390,
          409.9,
          421,
          393,
          419.4,
          407.6,
          407.2,
          406.7,
          402.7,
          404.3,
          420.9,
          407.6,
          420.9,
          407.2,
          412.3,
          393,
          407,
          401.2,
          407.8,
          407.2,
          412.3,
          397.2,
          398.7,
          393,
          390,
          399.6,
          381,
          408,
          407.6,
          414.3,
          411.4,
          407,
          407.2,
          401.2,
          419.4,
          408.4,
          372.1,
          401.2,
          411.8,
          391.2,
          423.4,
          402.7,
          396.2,
          390,
          419.4,
          402.7,
          393,
          399.6,
          407.2,
          390,
          404.3,
          411.8,
          420.9,
          402.6,
          414.6,
          423.4,
          402.6,
          404.3,
          421,
          411.8,
          401.6,
          402.6,
          401.6,
          411.4,
          401.6,
          404.3,
          406.6,
          408.4,
          390,
          423.2,
          419.4,
          410.6,
          407.2,
          407,
          413.2,
          406.8,
          409.9,
          407.2,
          421,
          409.4,
          398.2,
          414.3,
          412.3,
          398.8,
          398.7,
          409.9,
          423.4,
          401.2,
          415.2,
          407,
          391.2,
          401.2,
          416.7,
          397.2,
          414.3,
          401.2,
          421,
          390.7,
          396.2,
          412.3,
          419.4,
          409.9,
          409.9,
          409.4,
          407.2,
          411.4,
          423.4,
          400.9,
          510.1,
          510.1,
          502.5,
          510.1,
          502.5,
          510.1,
          502.5,
          502.5,
          510.1,
          484.1,
          477.6,
          447.2,
          451.5,
          434.4,
          449.6,
          439.6,
          452,
          458.4,
          469.1,
          486,
          451.7,
          464.8,
          476.3,
          493.5,
          442.8,
          452,
          449.6,
          489.6,
          462.2,
          472,
          472.8,
          469.8,
          447.2,
          465.6,
          460,
          458.8,
          479.2,
          464.8,
          458.8,
          462.9,
          469,
          449.6,
          452,
          468.5,
          458.8,
          465.6,
          493.5,
          447.2,
          469,
          472.6,
          493.5,
          442,
          451.5,
          458.4,
          441.6,
          449.5,
          469.6,
          475.2,
          448.8,
          476,
          463.3,
          458.4,
          454.8,
          472,
          458.4,
          458.8,
          447.8,
          462.4,
          460,
          473.2,
          469,
          458,
          452,
          473.2,
          460,
          493.5,
          449.6,
          489.6,
          434.4,
          449.6,
          458.8,
          449.5,
          464.8,
          489.6,
          449.6,
          447.2,
          471.7,
          470.4,
          469.1,
          469,
          469,
          469.8,
          462,
          462.4,
          449.6,
          449.5,
          452.7,
          472.6,
          463.3,
          480.2,
          469.1,
          480.2,
          460.5,
          462.2,
          448.8,
          460,
          449.6,
          462.2,
          468.4,
          434.4,
          468.5,
          451.2,
          441.6,
          460,
          460,
          468.7,
          476.3,
          469.8,
          493.5,
          470.4,
          462,
          467.2,
          441.6,
          493.5,
          462,
          476,
          452,
          462.2,
          470.4,
          449.5,
          452,
          479.6,
          480.2,
          476,
          489.6,
          465.6,
          458,
          434.4,
          476.3,
          489.6,
          462,
          447.2,
          468.5,
          463.3,
          462.2,
          483.8,
          469.8,
          471.7,
          472.8,
          483.8,
          464.8,
          480.2,
          472.8,
          472.8,
          479.6,
          460,
          458.4,
          452,
          479.6,
          458,
          476.3,
          460.5,
          462.2,
          455.2,
          450.9,
          458.4,
          470.4,
          458.8,
          469.6,
          449.5,
          462.4,
          455.9,
          468.5,
          447.2,
          382.2,
          392,
          371.8,
          371.8,
          390.2,
          371.8,
          390.4,
          394.1,
          394.1,
          381.6,
          392,
          390.4,
          379.9,
          390.4,
          381.6,
          389.4,
          381.6,
          379.9,
          389.4,
          382.2,
          381.6
         ],
         "xaxis": "x",
         "y": [
          425.2900813849427,
          426.28753548965733,
          419.8098924627596,
          425.7522077746265,
          429.7589088602719,
          425.96626474043643,
          425.7718763284705,
          425.19134673922485,
          426.31627614281354,
          425.0314896267396,
          426.4233416858197,
          424.3808395916167,
          420.5339956184566,
          423.80023588216864,
          428.000584177756,
          426.7980710863413,
          428.48237912128377,
          428.4823050010814,
          422.18518063776395,
          426.7610736560992,
          423.89822932586253,
          428.87677707564933,
          418.79276980420104,
          426.0486122852981,
          420.6327302641745,
          428.7787836319554,
          430.6433585352511,
          424.6476881269058,
          416.4908606295684,
          425.958082083553,
          419.8916023604196,
          421.444052734009,
          422.1119793124169,
          416.3847139636109,
          423.74670311066563,
          426.58394000032894,
          423.310184161555,
          424.2284980541933,
          423.46996715383796,
          424.43437236311973,
          422.05837242071135,
          427.8061216455876,
          425.2456207127519,
          419.0604336617164,
          419.9704907772689,
          425.83448119928573,
          429.0464474894708,
          426.093072957489,
          424.4961619117088,
          417.15487686672145,
          428.662645989637,
          433.40806118138903,
          424.29856616695736,
          423.57703269684407,
          416.0907755837007,
          425.37747837410495,
          426.55512522697035,
          428.51111977444003,
          409.86230853965185,
          413.4448267988152,
          401.29706509915854,
          407.04155576954025,
          406.63057014080056,
          406.6503422494669,
          403.66817584261963,
          408.94814811275864,
          405.3729677536325,
          406.7911684553098,
          404.1952467805647,
          404.4506541044757,
          400.60113906961845,
          401.4987619765418,
          403.50757752811046,
          407.6832078255533,
          403.98937247163815,
          403.1707121017665,
          403.43837595928187,
          411.9665707478239,
          407.1650825336051,
          407.4862791626236,
          402.79113818788005,
          409.77172711619755,
          408.861670000645,
          401.016967033014,
          407.728409699768,
          402.1535894432079,
          401.1775653475233,
          408.3798750571174,
          406.3991625115032,
          407.807475791642,
          405.0600279016998,
          407.89808011358963,
          402.301753549088,
          407.03248367022803,
          402.36772052922026,
          403.1047451216342,
          405.051771124614,
          405.26590221062634,
          405.3531215247638,
          407.1486213125464,
          409.9323254307067,
          408.71753290719454,
          404.578232958172,
          399.8927788314493,
          409.61112880168827,
          403.61464307111663,
          410.40504827492236,
          408.1822051921636,
          405.11356067320287,
          408.5404733716266,
          403.98111569455233,
          399.3574511164185,
          402.301753549088,
          407.8972647913632,
          403.178124122006,
          401.4452292050387,
          409.9858582022098,
          401.73365816847155,
          399.9463116029523,
          408.0051456565958,
          409.36733818547106,
          399.1557542390352,
          408.3971516004023,
          403.27293313140785,
          403.178124122006,
          406.52268927556804,
          410.25352205972524,
          405.3729677536325,
          404.7767693670614,
          399.75361270467897,
          404.2421828540544,
          404.8911728101047,
          411.0029808607684,
          406.39009041219106,
          406.18503142549093,
          408.39633627817597,
          404.68529850117824,
          400.58870486098937,
          402.08762246307566,
          408.95966344433907,
          402.6229501781065,
          402.00124790578445,
          405.4528491677327,
          412.48123691175977,
          402.1001307919072,
          408.18227931236606,
          406.79035313308344,
          410.4066342337925,
          404.4357265091742,
          401.2922205857937,
          407.0860164417311,
          409.61112880168827,
          405.82750444805197,
          407.112290964126,
          400.82445892611776,
          404.30315708041707,
          404.9982383531109,
          411.0029808607684,
          403.6400728366651,
          404.8994295871905,
          399.69108195406614,
          400.97586847014014,
          408.98601208693617,
          403.0636465587603,
          404.8458968156875,
          408.12867242066056,
          405.00649513019675,
          403.47947452215584,
          405.5599147107389,
          402.5975945327604,
          408.263737414799,
          407.2466147562404,
          406.1224265546756,
          402.38346344674807,
          409.75113968530485,
          407.8684205833847,
          400.3821634702413,
          402.08762246307566,
          401.4576634136678,
          403.50757752811046,
          403.7011953034325,
          407.84454734208646,
          408.861670000645,
          403.5611102996135,
          405.11356067320287,
          404.8376400386016,
          403.9275829230492,
          405.9165522457492,
          405.62078538227917,
          404.73883127268135,
          407.736666476854,
          408.0051456565958,
          406.95095144759273,
          408.5404733716266,
          405.0444332245768,
          406.0153610116695,
          487.5939605654524,
          486.8445017644093,
          488.26096826681163,
          490.3776646836128,
          487.19031283674997,
          480.60578194187076,
          482.1582323154601,
          490.9665251701467,
          480.819913027883,
          490.2170663691035,
          467.66777483482997,
          467.8168578177588,
          462.6892270850432,
          464.3907604415615,
          464.08933592120917,
          460.39557468749643,
          463.97401360111724,
          460.5564379135852,
          472.92305854144433,
          470.2258325353975,
          472.75412932964673,
          467.14151921911133,
          461.8663892836282,
          475.01083663006455,
          465.98851624418796,
          464.4105325502277,
          462.1830084895704,
          474.0381746436969,
          458.6299252212958,
          472.6801126820734,
          469.38989562224083,
          461.54519265460976,
          453.7254976739048,
          467.4627158481298,
          460.3026165485444,
          465.48118798028935,
          471.69180479687327,
          467.66777483482997,
          465.90945015231404,
          467.82837314933914,
          459.3251841690143,
          462.16215614709824,
          463.76813929219077,
          468.1495697783578,
          459.8743543765198,
          470.6656100390026,
          463.1511757997022,
          460.4699598014717,
          460.07531005187906,
          471.10294431033947,
          469.30010662251965,
          465.4614158716231,
          465.4193984317005,
          459.778611195008,
          460.3420419159934,
          460.50364634410613,
          470.5923345934532,
          467.4009557341608,
          463.76072727195117,
          468.1495697783578,
          462.5748236419998,
          460.0753841720814,
          467.3021175336206,
          470.4317362789439,
          463.8760201574232,
          461.1591408925938,
          464.29521023013564,
          468.69396959270074,
          469.63697204886364,
          468.82575313385144,
          460.63513553905733,
          470.0232167809656,
          462.4298200046137,
          469.36108084888224,
          465.2343764652461,
          464.0077001437515,
          469.8633596684803,
          471.42414093935804,
          461.8944922895828,
          462.055090604092,
          463.86779281495734,
          460.98544128763376,
          464.7696672736263,
          471.8524031113826,
          453.87801688635295,
          454.63562890965954,
          465.6063453888069,
          458.26763002940334,
          469.0151662217193,
          458.84331510528415,
          460.50364634410613,
          469.4434283937439,
          466.1243965605528,
          466.8203225900928,
          461.59414800303654,
          466.65065217627136,
          464.7770051736634,
          466.1952058753408,
          464.67078438750355,
          472.92305854144433,
          469.55049393675006,
          467.7476562489303,
          468.89902857940086,
          468.36370086437006,
          467.2485847621175,
          465.48118798028935,
          460.36289425846553,
          466.33852764656507,
          457.472865799323,
          454.3678909319417,
          462.00174862396614,
          466.5526587325774,
          464.97962092809536,
          463.6819260916567,
          463.67525527344105,
          475.0025057327763,
          459.93920950951724,
          461.5987254261128,
          473.0836568559535,
          466.54443139011136,
          464.73172917924626,
          465.3667104170437,
          466.437262292283,
          471.60201579715226,
          460.3423068275728,
          470.1393544232839,
          451.958916214303,
          459.75344634103897,
          466.00910367508067,
          466.1771140098295,
          459.98816485794396,
          470.17229976389444,
          468.9253772219981,
          468.908100678713,
          471.8524031113826,
          475.8054973053225,
          461.07590603991343,
          448.3722205235964,
          471.10294431033947,
          471.4686016115488,
          462.9651477196445,
          453.67196490240167,
          462.1088141669723,
          471.9511377571006,
          463.0186804911475,
          473.45838625647514,
          461.0098649395789,
          462.401716998659,
          476.3936165898325,
          462.6158480846714,
          469.1131596654132,
          475.5461643450954,
          471.4686016115488,
          473.02105198513823,
          461.81285651212517,
          455.91226220347005,
          462.45524977016214,
          472.3258671576221,
          482.45189186899313,
          476.07316116283795,
          463.63297074323,
          472.3258671576221,
          467.61424206332686,
          455.7062843397212,
          473.07532595866525,
          465.2143394450003,
          468.6404368211977,
          465.9771644480737,
          457.6334641138322,
          465.58906884552187,
          458.5690545497555,
          468.3101680928669,
          462.32376057521094,
          454.52848924645104,
          386.22303240467676,
          387.6684172352599,
          384.18797176533315,
          378.55961873726983,
          385.9553685471613,
          391.20083895243954,
          386.1620134927316,
          386.4363481684627,
          386.54341371146876,
          383.96716986110516,
          394.8946001861522,
          383.6995060035898,
          392.5926910115196,
          384.71662866214837,
          374.85342329492795,
          385.2050944238917,
          383.0571127455528,
          386.00890131866436,
          383.48537491757753,
          394.0380758421029,
          384.0273734508239
         ],
         "yaxis": "y"
        }
       ],
       "layout": {
        "legend": {
         "tracegroupgap": 0
        },
        "margin": {
         "t": 60
        },
        "template": {
         "data": {
          "bar": [
           {
            "error_x": {
             "color": "#2a3f5f"
            },
            "error_y": {
             "color": "#2a3f5f"
            },
            "marker": {
             "line": {
              "color": "#E5ECF6",
              "width": 0.5
             },
             "pattern": {
              "fillmode": "overlay",
              "size": 10,
              "solidity": 0.2
             }
            },
            "type": "bar"
           }
          ],
          "barpolar": [
           {
            "marker": {
             "line": {
              "color": "#E5ECF6",
              "width": 0.5
             },
             "pattern": {
              "fillmode": "overlay",
              "size": 10,
              "solidity": 0.2
             }
            },
            "type": "barpolar"
           }
          ],
          "carpet": [
           {
            "aaxis": {
             "endlinecolor": "#2a3f5f",
             "gridcolor": "white",
             "linecolor": "white",
             "minorgridcolor": "white",
             "startlinecolor": "#2a3f5f"
            },
            "baxis": {
             "endlinecolor": "#2a3f5f",
             "gridcolor": "white",
             "linecolor": "white",
             "minorgridcolor": "white",
             "startlinecolor": "#2a3f5f"
            },
            "type": "carpet"
           }
          ],
          "choropleth": [
           {
            "colorbar": {
             "outlinewidth": 0,
             "ticks": ""
            },
            "type": "choropleth"
           }
          ],
          "contour": [
           {
            "colorbar": {
             "outlinewidth": 0,
             "ticks": ""
            },
            "colorscale": [
             [
              0,
              "#0d0887"
             ],
             [
              0.1111111111111111,
              "#46039f"
             ],
             [
              0.2222222222222222,
              "#7201a8"
             ],
             [
              0.3333333333333333,
              "#9c179e"
             ],
             [
              0.4444444444444444,
              "#bd3786"
             ],
             [
              0.5555555555555556,
              "#d8576b"
             ],
             [
              0.6666666666666666,
              "#ed7953"
             ],
             [
              0.7777777777777778,
              "#fb9f3a"
             ],
             [
              0.8888888888888888,
              "#fdca26"
             ],
             [
              1,
              "#f0f921"
             ]
            ],
            "type": "contour"
           }
          ],
          "contourcarpet": [
           {
            "colorbar": {
             "outlinewidth": 0,
             "ticks": ""
            },
            "type": "contourcarpet"
           }
          ],
          "heatmap": [
           {
            "colorbar": {
             "outlinewidth": 0,
             "ticks": ""
            },
            "colorscale": [
             [
              0,
              "#0d0887"
             ],
             [
              0.1111111111111111,
              "#46039f"
             ],
             [
              0.2222222222222222,
              "#7201a8"
             ],
             [
              0.3333333333333333,
              "#9c179e"
             ],
             [
              0.4444444444444444,
              "#bd3786"
             ],
             [
              0.5555555555555556,
              "#d8576b"
             ],
             [
              0.6666666666666666,
              "#ed7953"
             ],
             [
              0.7777777777777778,
              "#fb9f3a"
             ],
             [
              0.8888888888888888,
              "#fdca26"
             ],
             [
              1,
              "#f0f921"
             ]
            ],
            "type": "heatmap"
           }
          ],
          "heatmapgl": [
           {
            "colorbar": {
             "outlinewidth": 0,
             "ticks": ""
            },
            "colorscale": [
             [
              0,
              "#0d0887"
             ],
             [
              0.1111111111111111,
              "#46039f"
             ],
             [
              0.2222222222222222,
              "#7201a8"
             ],
             [
              0.3333333333333333,
              "#9c179e"
             ],
             [
              0.4444444444444444,
              "#bd3786"
             ],
             [
              0.5555555555555556,
              "#d8576b"
             ],
             [
              0.6666666666666666,
              "#ed7953"
             ],
             [
              0.7777777777777778,
              "#fb9f3a"
             ],
             [
              0.8888888888888888,
              "#fdca26"
             ],
             [
              1,
              "#f0f921"
             ]
            ],
            "type": "heatmapgl"
           }
          ],
          "histogram": [
           {
            "marker": {
             "pattern": {
              "fillmode": "overlay",
              "size": 10,
              "solidity": 0.2
             }
            },
            "type": "histogram"
           }
          ],
          "histogram2d": [
           {
            "colorbar": {
             "outlinewidth": 0,
             "ticks": ""
            },
            "colorscale": [
             [
              0,
              "#0d0887"
             ],
             [
              0.1111111111111111,
              "#46039f"
             ],
             [
              0.2222222222222222,
              "#7201a8"
             ],
             [
              0.3333333333333333,
              "#9c179e"
             ],
             [
              0.4444444444444444,
              "#bd3786"
             ],
             [
              0.5555555555555556,
              "#d8576b"
             ],
             [
              0.6666666666666666,
              "#ed7953"
             ],
             [
              0.7777777777777778,
              "#fb9f3a"
             ],
             [
              0.8888888888888888,
              "#fdca26"
             ],
             [
              1,
              "#f0f921"
             ]
            ],
            "type": "histogram2d"
           }
          ],
          "histogram2dcontour": [
           {
            "colorbar": {
             "outlinewidth": 0,
             "ticks": ""
            },
            "colorscale": [
             [
              0,
              "#0d0887"
             ],
             [
              0.1111111111111111,
              "#46039f"
             ],
             [
              0.2222222222222222,
              "#7201a8"
             ],
             [
              0.3333333333333333,
              "#9c179e"
             ],
             [
              0.4444444444444444,
              "#bd3786"
             ],
             [
              0.5555555555555556,
              "#d8576b"
             ],
             [
              0.6666666666666666,
              "#ed7953"
             ],
             [
              0.7777777777777778,
              "#fb9f3a"
             ],
             [
              0.8888888888888888,
              "#fdca26"
             ],
             [
              1,
              "#f0f921"
             ]
            ],
            "type": "histogram2dcontour"
           }
          ],
          "mesh3d": [
           {
            "colorbar": {
             "outlinewidth": 0,
             "ticks": ""
            },
            "type": "mesh3d"
           }
          ],
          "parcoords": [
           {
            "line": {
             "colorbar": {
              "outlinewidth": 0,
              "ticks": ""
             }
            },
            "type": "parcoords"
           }
          ],
          "pie": [
           {
            "automargin": true,
            "type": "pie"
           }
          ],
          "scatter": [
           {
            "fillpattern": {
             "fillmode": "overlay",
             "size": 10,
             "solidity": 0.2
            },
            "type": "scatter"
           }
          ],
          "scatter3d": [
           {
            "line": {
             "colorbar": {
              "outlinewidth": 0,
              "ticks": ""
             }
            },
            "marker": {
             "colorbar": {
              "outlinewidth": 0,
              "ticks": ""
             }
            },
            "type": "scatter3d"
           }
          ],
          "scattercarpet": [
           {
            "marker": {
             "colorbar": {
              "outlinewidth": 0,
              "ticks": ""
             }
            },
            "type": "scattercarpet"
           }
          ],
          "scattergeo": [
           {
            "marker": {
             "colorbar": {
              "outlinewidth": 0,
              "ticks": ""
             }
            },
            "type": "scattergeo"
           }
          ],
          "scattergl": [
           {
            "marker": {
             "colorbar": {
              "outlinewidth": 0,
              "ticks": ""
             }
            },
            "type": "scattergl"
           }
          ],
          "scattermapbox": [
           {
            "marker": {
             "colorbar": {
              "outlinewidth": 0,
              "ticks": ""
             }
            },
            "type": "scattermapbox"
           }
          ],
          "scatterpolar": [
           {
            "marker": {
             "colorbar": {
              "outlinewidth": 0,
              "ticks": ""
             }
            },
            "type": "scatterpolar"
           }
          ],
          "scatterpolargl": [
           {
            "marker": {
             "colorbar": {
              "outlinewidth": 0,
              "ticks": ""
             }
            },
            "type": "scatterpolargl"
           }
          ],
          "scatterternary": [
           {
            "marker": {
             "colorbar": {
              "outlinewidth": 0,
              "ticks": ""
             }
            },
            "type": "scatterternary"
           }
          ],
          "surface": [
           {
            "colorbar": {
             "outlinewidth": 0,
             "ticks": ""
            },
            "colorscale": [
             [
              0,
              "#0d0887"
             ],
             [
              0.1111111111111111,
              "#46039f"
             ],
             [
              0.2222222222222222,
              "#7201a8"
             ],
             [
              0.3333333333333333,
              "#9c179e"
             ],
             [
              0.4444444444444444,
              "#bd3786"
             ],
             [
              0.5555555555555556,
              "#d8576b"
             ],
             [
              0.6666666666666666,
              "#ed7953"
             ],
             [
              0.7777777777777778,
              "#fb9f3a"
             ],
             [
              0.8888888888888888,
              "#fdca26"
             ],
             [
              1,
              "#f0f921"
             ]
            ],
            "type": "surface"
           }
          ],
          "table": [
           {
            "cells": {
             "fill": {
              "color": "#EBF0F8"
             },
             "line": {
              "color": "white"
             }
            },
            "header": {
             "fill": {
              "color": "#C8D4E3"
             },
             "line": {
              "color": "white"
             }
            },
            "type": "table"
           }
          ]
         },
         "layout": {
          "annotationdefaults": {
           "arrowcolor": "#2a3f5f",
           "arrowhead": 0,
           "arrowwidth": 1
          },
          "autotypenumbers": "strict",
          "coloraxis": {
           "colorbar": {
            "outlinewidth": 0,
            "ticks": ""
           }
          },
          "colorscale": {
           "diverging": [
            [
             0,
             "#8e0152"
            ],
            [
             0.1,
             "#c51b7d"
            ],
            [
             0.2,
             "#de77ae"
            ],
            [
             0.3,
             "#f1b6da"
            ],
            [
             0.4,
             "#fde0ef"
            ],
            [
             0.5,
             "#f7f7f7"
            ],
            [
             0.6,
             "#e6f5d0"
            ],
            [
             0.7,
             "#b8e186"
            ],
            [
             0.8,
             "#7fbc41"
            ],
            [
             0.9,
             "#4d9221"
            ],
            [
             1,
             "#276419"
            ]
           ],
           "sequential": [
            [
             0,
             "#0d0887"
            ],
            [
             0.1111111111111111,
             "#46039f"
            ],
            [
             0.2222222222222222,
             "#7201a8"
            ],
            [
             0.3333333333333333,
             "#9c179e"
            ],
            [
             0.4444444444444444,
             "#bd3786"
            ],
            [
             0.5555555555555556,
             "#d8576b"
            ],
            [
             0.6666666666666666,
             "#ed7953"
            ],
            [
             0.7777777777777778,
             "#fb9f3a"
            ],
            [
             0.8888888888888888,
             "#fdca26"
            ],
            [
             1,
             "#f0f921"
            ]
           ],
           "sequentialminus": [
            [
             0,
             "#0d0887"
            ],
            [
             0.1111111111111111,
             "#46039f"
            ],
            [
             0.2222222222222222,
             "#7201a8"
            ],
            [
             0.3333333333333333,
             "#9c179e"
            ],
            [
             0.4444444444444444,
             "#bd3786"
            ],
            [
             0.5555555555555556,
             "#d8576b"
            ],
            [
             0.6666666666666666,
             "#ed7953"
            ],
            [
             0.7777777777777778,
             "#fb9f3a"
            ],
            [
             0.8888888888888888,
             "#fdca26"
            ],
            [
             1,
             "#f0f921"
            ]
           ]
          },
          "colorway": [
           "#636efa",
           "#EF553B",
           "#00cc96",
           "#ab63fa",
           "#FFA15A",
           "#19d3f3",
           "#FF6692",
           "#B6E880",
           "#FF97FF",
           "#FECB52"
          ],
          "font": {
           "color": "#2a3f5f"
          },
          "geo": {
           "bgcolor": "white",
           "lakecolor": "white",
           "landcolor": "#E5ECF6",
           "showlakes": true,
           "showland": true,
           "subunitcolor": "white"
          },
          "hoverlabel": {
           "align": "left"
          },
          "hovermode": "closest",
          "mapbox": {
           "style": "light"
          },
          "paper_bgcolor": "white",
          "plot_bgcolor": "#E5ECF6",
          "polar": {
           "angularaxis": {
            "gridcolor": "white",
            "linecolor": "white",
            "ticks": ""
           },
           "bgcolor": "#E5ECF6",
           "radialaxis": {
            "gridcolor": "white",
            "linecolor": "white",
            "ticks": ""
           }
          },
          "scene": {
           "xaxis": {
            "backgroundcolor": "#E5ECF6",
            "gridcolor": "white",
            "gridwidth": 2,
            "linecolor": "white",
            "showbackground": true,
            "ticks": "",
            "zerolinecolor": "white"
           },
           "yaxis": {
            "backgroundcolor": "#E5ECF6",
            "gridcolor": "white",
            "gridwidth": 2,
            "linecolor": "white",
            "showbackground": true,
            "ticks": "",
            "zerolinecolor": "white"
           },
           "zaxis": {
            "backgroundcolor": "#E5ECF6",
            "gridcolor": "white",
            "gridwidth": 2,
            "linecolor": "white",
            "showbackground": true,
            "ticks": "",
            "zerolinecolor": "white"
           }
          },
          "shapedefaults": {
           "line": {
            "color": "#2a3f5f"
           }
          },
          "ternary": {
           "aaxis": {
            "gridcolor": "white",
            "linecolor": "white",
            "ticks": ""
           },
           "baxis": {
            "gridcolor": "white",
            "linecolor": "white",
            "ticks": ""
           },
           "bgcolor": "#E5ECF6",
           "caxis": {
            "gridcolor": "white",
            "linecolor": "white",
            "ticks": ""
           }
          },
          "title": {
           "x": 0.05
          },
          "xaxis": {
           "automargin": true,
           "gridcolor": "white",
           "linecolor": "white",
           "ticks": "",
           "title": {
            "standoff": 15
           },
           "zerolinecolor": "white",
           "zerolinewidth": 2
          },
          "yaxis": {
           "automargin": true,
           "gridcolor": "white",
           "linecolor": "white",
           "ticks": "",
           "title": {
            "standoff": 15
           },
           "zerolinecolor": "white",
           "zerolinewidth": 2
          }
         }
        },
        "xaxis": {
         "anchor": "y",
         "domain": [
          0,
          1
         ],
         "title": {
          "text": "x"
         }
        },
        "yaxis": {
         "anchor": "x",
         "domain": [
          0,
          1
         ],
         "title": {
          "text": "y"
         }
        }
       }
      }
     },
     "metadata": {},
     "output_type": "display_data"
    }
   ],
   "source": [
    "import pandas as pd\n",
    "from sklearn.preprocessing import StandardScaler\n",
    "from sklearn.neural_network import MLPRegressor\n",
    "from sklearn.metrics import mean_squared_error, r2_score\n",
    "import plotly.express as px\n",
    "\n",
    "# Standardize the features\n",
    "scaler = StandardScaler()\n",
    "scaler.fit(X_train)  # Fit on training data only\n",
    "X_train_scaled = scaler.transform(X_train)\n",
    "X_val_scaled = scaler.transform(X_val)\n",
    "X_test_scaled = scaler.transform(X_test)\n",
    "\n",
    "# Create and train the MLPRegressor\n",
    "mlp = MLPRegressor(hidden_layer_sizes=(25, 20, 15), activation='identity', solver='adam', max_iter=2000, random_state=42)\n",
    "mlp.fit(X_train_scaled, y_train)\n",
    "\n",
    "# Validate the model\n",
    "y_val_pred = mlp.predict(X_val_scaled)\n",
    "val_mse = mean_squared_error(y_val, y_val_pred)\n",
    "val_r2 = r2_score(y_val, y_val_pred)\n",
    "\n",
    "print(f\"Validation MSE: {val_mse:.2f}\")\n",
    "print(f\"Validation R^2: {val_r2:.2f}\")\n",
    "\n",
    "# Evaluate on test data\n",
    "y_test_pred = mlp.predict(X_test_scaled)\n",
    "test_mse = mean_squared_error(y_test, y_test_pred)\n",
    "test_r2 = r2_score(y_test, y_test_pred)\n",
    "\n",
    "print(f\"Test MSE: {test_mse:.2f}\")\n",
    "print(f\"Test R^2: {test_r2:.2f}\")\n",
    "\n",
    "# Get the predicted values on the test set\n",
    "y_test_pred = mlp.predict(X_test_scaled)\n",
    "\n",
    "# Create a DataFrame to compare the actual vs predicted values\n",
    "results = pd.DataFrame({\n",
    "    'Actual 2k tijd': y_test,\n",
    "    'Predicted 2k tijd': y_test_pred,\n",
    "    'Difference': y_test - y_test_pred\n",
    "})\n",
    "\n",
    "# Display a few examples\n",
    "print(results.head(10))  # You can adjust the number of rows displayed\n",
    "\n",
    "\n",
    "# Plot 1: Predictions vs Actual for Validation Set (NN)\n",
    "plt.figure(figsize=(10, 6))\n",
    "plt.scatter(y_val, y_val_pred, alpha=0.7, label='NN Validation Predictions')\n",
    "plt.plot([min(y_val), max(y_val)], [min(y_val), max(y_val)], color='red', linestyle='--', linewidth=2, label='Ideal Fit')\n",
    "plt.xlabel('Actual Values')\n",
    "plt.ylabel('Predicted Values')\n",
    "plt.title('NN Validation Predictions vs. Actual Values')\n",
    "plt.legend()\n",
    "plt.grid(True)\n",
    "plt.show()\n",
    "\n",
    "# Plot 2: Predictions vs Actual for Test Set (MLP)\n",
    "plt.figure(figsize=(10, 6))\n",
    "plt.scatter(y_test, y_test_pred, alpha=0.7, label='MLP Test Predictions')\n",
    "plt.plot([min(y_test), max(y_test)], [min(y_test), max(y_test)], color='red', linestyle='--', linewidth=2, label='Ideal Fit')\n",
    "plt.xlabel('Actual Values')\n",
    "plt.ylabel('Predicted Values')\n",
    "plt.title('MLP Test Predictions vs. Actual Values')\n",
    "plt.legend()\n",
    "plt.grid(True)\n",
    "plt.show()\n",
    "\n",
    "# Plot 3: Residuals for Test Set (MLP)\n",
    "residuals_mlp = y_test - y_test_pred\n",
    "plt.figure(figsize=(10, 6))\n",
    "plt.scatter(y_test_pred, residuals_mlp, alpha=0.7)\n",
    "plt.axhline(0, color='red', linestyle='--', linewidth=2)\n",
    "plt.xlabel('Predicted Values')\n",
    "plt.ylabel('Residuals')\n",
    "plt.title('Residual Analysis (Test Set - MLP)')\n",
    "plt.grid(True)\n",
    "plt.show()\n",
    "\n",
    "data = pd.DataFrame()\n",
    "data['x'] = y_test\n",
    "data['y'] = y_test_pred\n",
    "p = px.scatter(data,x='x',y='y')\n",
    "p.show()"
   ]
  },
  {
   "cell_type": "code",
   "execution_count": null,
   "metadata": {},
   "outputs": [],
   "source": []
  }
 ],
 "metadata": {
  "kernelspec": {
   "display_name": "base",
   "language": "python",
   "name": "python3"
  },
  "language_info": {
   "codemirror_mode": {
    "name": "ipython",
    "version": 3
   },
   "file_extension": ".py",
   "mimetype": "text/x-python",
   "name": "python",
   "nbconvert_exporter": "python",
   "pygments_lexer": "ipython3",
   "version": "3.12.3"
  }
 },
 "nbformat": 4,
 "nbformat_minor": 2
}
