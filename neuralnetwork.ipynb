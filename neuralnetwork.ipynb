{
 "cells": [
  {
   "cell_type": "code",
   "execution_count": 2,
   "metadata": {},
   "outputs": [],
   "source": [
    "import numpy as np \n",
    "import pandas as pd \n",
    "import matplotlib.pyplot as plt "
   ]
  },
  {
   "cell_type": "code",
   "execution_count": 3,
   "metadata": {},
   "outputs": [
    {
     "name": "stdout",
     "output_type": "stream",
     "text": [
      "   ervaring  500_split  2k tijd  binary_trainingtype  binary_geslacht  \\\n",
      "0       1.0      104.6    379.9                    0                0   \n",
      "1       1.0      104.7    379.9                    0                0   \n",
      "2       1.0      104.3    379.9                    0                0   \n",
      "3       1.0      104.0    379.9                    0                0   \n",
      "4       1.0      104.1    379.9                    0                0   \n",
      "\n",
      "   binary_gewichtsklasse  \n",
      "0                      1  \n",
      "1                      1  \n",
      "2                      1  \n",
      "3                      1  \n",
      "4                      1  \n"
     ]
    }
   ],
   "source": [
    "# # Data inladen\n",
    "df = pd.read_csv(\"final_df.csv\")\n",
    "print(df.head())\n",
    "\n",
    "# # Apply One-Hot Encoding for the 'binary_trainingtype' column\n",
    "# df = pd.get_dummies(df, columns=['binary_trainingtype'], drop_first=False)\n",
    "\n",
    "# # Convert boolean columns to 0 and 1\n",
    "# df[df.columns[df.columns.str.startswith('binary_trainingtype')]] = df[df.columns[df.columns.str.startswith('binary_trainingtype')]].astype(int)\n",
    "\n",
    "# # Display the updated DataFrame\n",
    "# print(df.head())"
   ]
  },
  {
   "cell_type": "code",
   "execution_count": 4,
   "metadata": {},
   "outputs": [],
   "source": [
    "# from sklearn.preprocessing import MinMaxScaler\n",
    "# from sklearn.model_selection import train_test_split, GridSearchCV\n",
    "# from sklearn.neural_network import MLPRegressor\n",
    "\n",
    "# # Prepare the data\n",
    "# df_X = df.drop(columns=['2k tijd'])\n",
    "# y = df['2k tijd']\n",
    "\n",
    "# # Normalize the data\n",
    "# sc = MinMaxScaler()\n",
    "# norm_df_X = sc.fit_transform(df_X)\n",
    "# norm_y = sc.fit_transform(y.values.reshape(-1, 1))\n",
    "\n",
    "# # Split the data into training and validation sets\n",
    "# train_X, valid_X, train_y, valid_y = train_test_split(norm_df_X, norm_y, test_size=0.3, random_state=1)\n",
    "\n",
    "# # Define the parameter grid for GridSearchCV\n",
    "# param_grid = {\n",
    "#     'hidden_layer_sizes': [(64, 32), (128, 64, 32), (128, 64)],\n",
    "#     'activation': ['relu'],\n",
    "#     'solver': ['adam'],\n",
    "#     'learning_rate_init': [0.001, 0.01],\n",
    "#     'max_iter': [2000, 3000]\n",
    "# }\n",
    "\n",
    "# # Initialize GridSearchCV with the MLPRegressor and the parameter grid\n",
    "# grid_search = GridSearchCV(estimator=MLPRegressor(random_state=1), \n",
    "#                            param_grid=param_grid, \n",
    "#                            cv=5,  # 5-fold cross-validation\n",
    "#                            n_jobs=-1,  # Use all available CPU cores\n",
    "#                            verbose=2)  # Set to 1 or 2 for more output details\n",
    "\n",
    "# # Fit GridSearchCV on the training data\n",
    "# grid_search.fit(train_X, train_y.ravel())\n",
    "\n",
    "# # Get the best parameters and score from GridSearchCV\n",
    "# best_params = grid_search.best_params_\n",
    "# best_score = grid_search.best_score_\n",
    "\n",
    "# print(f\"Best Parameters: {best_params}\")\n",
    "# print(f\"Best Cross-validation Score: {best_score}\")\n",
    "\n",
    "# # Get the best model from the grid search\n",
    "# best_model = grid_search.best_estimator_\n",
    "\n",
    "# # Evaluate the best model on the validation data\n",
    "# validation_score = best_model.score(valid_X, valid_y)\n",
    "# print(f\"Validation Score: {validation_score}\")\n"
   ]
  },
  {
   "cell_type": "code",
   "execution_count": 4,
   "metadata": {},
   "outputs": [],
   "source": [
    "# https://www.youtube.com/watch?v=sIEH6SNNg7k \n",
    "\n",
    "# from sklearn.preprocessing import MinMaxScaler\n",
    "# from sklearn.model_selection import train_test_split\n",
    "# from sklearn.neural_network import MLPRegressor\n",
    "# from sklearn.model_selection import GridSearchCV\n",
    "\n",
    "# df_X = df.drop(columns=['2k tijd'])\n",
    "# y = df['2k tijd']\n",
    "\n",
    "# sc = MinMaxScaler()\n",
    "# norm_df_X = sc.fit_transform(df_X)\n",
    "# norm_y = sc.fit_transform(y.values.reshape(-1, 1))\n",
    "\n",
    "# train_X, valid_X, train_y, valid_y = train_test_split(norm_df_X, norm_y, test_size=0.3, random_state=1)\n",
    "\n",
    "# car_lm = MLPRegressor(hidden_layer_sizes=(64,32), \n",
    "#                       activation='relu',\n",
    "#                       solver='adam',\n",
    "#                       random_state=1,\n",
    "#                       max_iter=3000)\n",
    "# car_lm.fit(train_X, train_y.ravel())\n",
    "# car_lm.score(valid_X, valid_y)"
   ]
  },
  {
   "cell_type": "code",
   "execution_count": 5,
   "metadata": {},
   "outputs": [],
   "source": [
    "# param_grid = {\n",
    "#     'hidden_layer_sizes': [(64,32), (128, 64)],\n",
    "#     'solver': ['adam', 'lbfgs'],\n",
    "#     'activation': ['relu'],\n",
    "#     'max_iter': [3000, 5000]\n",
    "# }\n",
    "\n",
    "# gridSearch = GridSearchCV(MLPRegressor(), param_grid, \n",
    "#                           cv=5, n_jobs=-1,\n",
    "#                           return_train_score=True)\n",
    "# gridSearch.fit(train_X, train_y.ravel())\n",
    "\n",
    "# print('Best score: ', gridSearch.best_score_,\n",
    "#       '\\nBest parameters: ', gridSearch.best_params_)\n",
    "\n",
    "# display=['param_hidden_layer_sizes', 'param_solver', 'param_max_iter', 'mean_test_score', 'mean_train_score']\n",
    "# print(pd.DataFrame(gridSearch.cv_results_)[display])"
   ]
  },
  {
   "cell_type": "code",
   "execution_count": 33,
   "metadata": {},
   "outputs": [
    {
     "name": "stdout",
     "output_type": "stream",
     "text": [
      "Trainingsdata: 3018 rijen\n",
      "Validatiedata: 905 rijen\n",
      "Testdata: 391 rijen\n"
     ]
    }
   ],
   "source": [
    "from sklearn.model_selection import train_test_split\n",
    "\n",
    "# Eerst de data opschudden om bias te voorkomen\n",
    "df = df.sample(frac=1, random_state=42).reset_index(drop=True)\n",
    "\n",
    "# Zorg ervoor dat elke ervaring, geslacht en gewichtsklasse in elke set vertegenwoordigd zijn\n",
    "train_data = pd.DataFrame()\n",
    "val_data = pd.DataFrame()\n",
    "test_data = pd.DataFrame()\n",
    "\n",
    "for ervaring in df['ervaring'].unique():\n",
    "    for geslacht in df['binary_geslacht'].unique():\n",
    "        for gewichtsklasse in df['binary_gewichtsklasse'].unique():\n",
    "            subset = df[(df['ervaring'] == ervaring) & (df['binary_geslacht'] == geslacht) & (df['binary_gewichtsklasse'] == gewichtsklasse)]\n",
    "            if not subset.empty:\n",
    "                temp_train, temp_temp = train_test_split(subset, test_size=0.3, random_state=42)\n",
    "                temp_val, temp_test = train_test_split(temp_temp, test_size=0.3, random_state=42)\n",
    "                train_data = pd.concat([train_data, temp_train])\n",
    "                val_data = pd.concat([val_data, temp_val])\n",
    "                test_data = pd.concat([test_data, temp_test])\n",
    "\n",
    "# Reset indexen\n",
    "train_data.reset_index(drop=True, inplace=True)\n",
    "val_data.reset_index(drop=True, inplace=True)\n",
    "test_data.reset_index(drop=True, inplace=True)\n",
    "\n",
    "# Controleren op juiste verdeling\n",
    "print(f\"Trainingsdata: {len(train_data)} rijen\")\n",
    "print(f\"Validatiedata: {len(val_data)} rijen\")\n",
    "print(f\"Testdata: {len(test_data)} rijen\")\n",
    "\n",
    "X_train = train_data.drop(columns=['2k tijd'])\n",
    "y_train = train_data['2k tijd']\n",
    "X_val = val_data.drop(columns=['2k tijd'])\n",
    "y_val = val_data['2k tijd']\n",
    "X_test = test_data.drop(columns=['2k tijd'])\n",
    "y_test = test_data['2k tijd']"
   ]
  },
  {
   "cell_type": "raw",
   "metadata": {
    "vscode": {
     "languageId": "raw"
    }
   },
   "source": [
    "Multi-layer Perceptron is sensitive to feature scaling, so it is highly recommended to scale your data. \n",
    "For example, scale each attribute on the input vector X to [0, 1] or [-1, +1], or standardize it to have mean 0 and variance 1. \n",
    "Note that you must apply the same scaling to the test set for meaningful results. You can use StandardScaler for standardization.\n",
    "\n",
    "MLPRegressor: https://scikit-learn.org/1.5/modules/generated/sklearn.neural_network.MLPRegressor.html#sklearn.neural_network.MLPRegressor \n",
    "\n",
    "- The default solver 'adam' works pretty well on relatively large datasets (with thousands of training samples or more) in terms of both training time and validation score.\n",
    "    (-> Ik heb ook de solver 'lbfgs' geprobeerd maar die duurt heel erg lang om te runnen)"
   ]
  },
  {
   "cell_type": "code",
   "execution_count": 36,
   "metadata": {},
   "outputs": [
    {
     "name": "stdout",
     "output_type": "stream",
     "text": [
      "Validation MSE: 114.01\n",
      "Validation R^2: 0.89\n",
      "Test MSE: 124.16\n",
      "Test R^2: 0.89\n",
      "   Actual 2k tijd  Predicted 2k tijd  Difference\n",
      "0           428.3         420.612080    7.687920\n",
      "1           431.6         424.176945    7.423055\n",
      "2           449.0         428.987061   20.012939\n",
      "3           428.3         428.561074   -0.261074\n",
      "4           428.3         429.708632   -1.408632\n",
      "5           412.5         421.989996   -9.489996\n",
      "6           429.2         422.681484    6.518516\n",
      "7           427.7         421.436733    6.263267\n",
      "8           420.3         429.385727   -9.085727\n",
      "9           405.5         423.472116  -17.972116\n"
     ]
    },
    {
     "data": {
      "image/png": "[encoded data removed]",
      "text/plain": [
       "<Figure size 1000x600 with 1 Axes>"
      ]
     },
     "metadata": {},
     "output_type": "display_data"
    },
    {
     "data": {
      "image/png": "[encoded data removed]",
      "text/plain": [
       "<Figure size 1000x600 with 1 Axes>"
      ]
     },
     "metadata": {},
     "output_type": "display_data"
    },
    {
     "data": {
      "image/png": "[encoded data removed]",
      "text/plain": [
       "<Figure size 1000x600 with 1 Axes>"
      ]
     },
     "metadata": {},
     "output_type": "display_data"
    },
    {
     "data": {
      "application/vnd.plotly.v1+json": {
       "config": {
        "plotlyServerURL": "https://plot.ly"
       },
       "data": [
        {
         "hovertemplate": "x=%{x}<br>y=%{y}<extra></extra>",
         "legendgroup": "",
         "marker": {
          "color": "#636efa",
          "symbol": "circle"
         },
         "mode": "markers",
         "name": "",
         "orientation": "v",
         "showlegend": false,
         "type": "scatter",
         "x": [
          428.3,
          431.6,
          449,
          428.3,
          428.3,
          412.5,
          429.2,
          427.7,
          420.3,
          405.5,
          431.6,
          415.6,
          427.7,
          418.6,
          427.7,
          428.3,
          412.5,
          428.3,
          428.3,
          405.5,
          419,
          431.6,
          439.7,
          421.9,
          421.9,
          405.5,
          419.3,
          415.6,
          421.9,
          429.2,
          420.5,
          449,
          419.3,
          419.3,
          419.3,
          428.3,
          418.6,
          420.8,
          415.6,
          402.7,
          421.9,
          449,
          427.7,
          415.6,
          420.8,
          418.6,
          418.6,
          428.3,
          421.9,
          431.6,
          420.3,
          419.3,
          412.5,
          439.7,
          420.5,
          433.8,
          431.6,
          418.6,
          393,
          402.6,
          397.2,
          414.6,
          412.3,
          400.2,
          414.6,
          415.2,
          398.8,
          421,
          396.4,
          409.9,
          401.6,
          423.4,
          406.6,
          407.2,
          411.8,
          423.2,
          402.7,
          409.9,
          411.4,
          390,
          407.6,
          396.4,
          387.9,
          401.6,
          393,
          410.6,
          399.6,
          407.2,
          410.6,
          406.6,
          411.8,
          401.6,
          393,
          411.4,
          406.8,
          407.2,
          401.2,
          412.3,
          397.2,
          401.6,
          413.2,
          398.8,
          419.4,
          397.2,
          390,
          402.7,
          396.2,
          399.6,
          410.6,
          407.6,
          381,
          411.8,
          381,
          396.4,
          398.2,
          398.6,
          410.6,
          393,
          399.6,
          398.6,
          416.7,
          396.2,
          401.4,
          414.6,
          420.9,
          411.8,
          407.8,
          393,
          402.2,
          410.6,
          411.4,
          391.2,
          408,
          401.2,
          398.6,
          390,
          393,
          398.6,
          397.2,
          401.6,
          402.6,
          409.9,
          415.2,
          406.6,
          390,
          409.4,
          399.6,
          414.6,
          416.7,
          402.7,
          381,
          409.9,
          398.7,
          423.4,
          407,
          414.3,
          408,
          408.4,
          412.3,
          393,
          407.8,
          413.2,
          423.4,
          406.6,
          399.6,
          411.8,
          402.6,
          409.4,
          390.7,
          412.3,
          401.2,
          406.7,
          406.6,
          401.2,
          406.8,
          402.7,
          412.3,
          414.6,
          402.6,
          415.2,
          396.2,
          408,
          408.4,
          410.6,
          412.3,
          410.6,
          402.7,
          407.2,
          420.9,
          411.4,
          406.6,
          415.2,
          390.7,
          400,
          402.7,
          391.2,
          484.1,
          484.1,
          502.5,
          510.1,
          502.5,
          502.5,
          484.1,
          510.1,
          484.1,
          484.1,
          439.6,
          458.8,
          464.6,
          472.6,
          449.5,
          471.7,
          467.2,
          487.7,
          462.4,
          486,
          458.8,
          458.8,
          480.8,
          469.8,
          451.2,
          452,
          441.6,
          479.6,
          442.8,
          480.2,
          462,
          480.8,
          462,
          468.5,
          469.6,
          470.4,
          472.6,
          472.8,
          450.9,
          480.2,
          472.6,
          469.1,
          476,
          469,
          465.6,
          472.8,
          442.8,
          452,
          479.6,
          469.8,
          458.8,
          442.8,
          493.5,
          464.8,
          472.8,
          470.4,
          470.4,
          496.3,
          452,
          479.6,
          458.4,
          460,
          476,
          462.2,
          458.4,
          467.9,
          460,
          483.8,
          480.2,
          483.8,
          458.4,
          452,
          479.2,
          451.5,
          458.4,
          468.5,
          480.2,
          493.5,
          449.6,
          465.6,
          441.6,
          439.6,
          452,
          449.5,
          462,
          480.2,
          462.2,
          479.6,
          480.2,
          496.3,
          449.6,
          449.6,
          451.6,
          469,
          442.8,
          479.6,
          447.2,
          464.8,
          447.2,
          462.4,
          462.2,
          471.7,
          469,
          450.9,
          447.2,
          493.5,
          479.6,
          447.2,
          471.7,
          449.5,
          450.9,
          442.8,
          455.7,
          489.6,
          460.5,
          462.4,
          460.5,
          458.8,
          462.4,
          469,
          449.5,
          493.5,
          496.3,
          458.4,
          489.6,
          469,
          462.4,
          462,
          476,
          462.4,
          460,
          449.5,
          458.4,
          480.8,
          471.7,
          462.2,
          476,
          496.3,
          462.2,
          460.5,
          455.2,
          442.8,
          434.4,
          468.7,
          434.4,
          442.8,
          479.2,
          451.2,
          480.8,
          439.6,
          447.2,
          496.3,
          452,
          472.6,
          467.2,
          480.2,
          480.2,
          493.5,
          439.6,
          472.6,
          496.3,
          469,
          455.7,
          468.5,
          462.4,
          458.8,
          451.5,
          480.8,
          462.2,
          452,
          454.1,
          449.6,
          469.1,
          451.6,
          381.6,
          377,
          394.1,
          371.8,
          371.8,
          381.6,
          382.2,
          394.1,
          394.1,
          379.9,
          381.6,
          381.6,
          371.8,
          371.8,
          371.8,
          371.8,
          371.8,
          379.9,
          390.4,
          392,
          371.8
         ],
         "xaxis": "x",
         "y": [
          420.6120803734323,
          424.17694473436694,
          428.98706063721977,
          428.5610740763844,
          429.70863199130196,
          421.98999627588006,
          422.6814840877848,
          421.4367333495262,
          429.38572705247844,
          423.47211614685,
          421.805290300685,
          427.22101299023166,
          428.4064516433668,
          420.3406903236921,
          427.183054539273,
          427.53025785626687,
          418.8460068045217,
          431.25485632147826,
          427.63333947827863,
          423.523734670597,
          423.4585337868028,
          424.7438936554315,
          428.0940463708134,
          429.128022997449,
          428.6641556983962,
          423.2523705427793,
          426.2385771746019,
          425.01841818976743,
          426.8086865021846,
          427.8878831267899,
          427.3377546850317,
          433.0451246338955,
          420.64993518972733,
          420.8560984337508,
          418.9490884265335,
          428.2179637188027,
          419.51603734759806,
          419.3098741035746,
          426.4615608979319,
          429.1795638084549,
          424.12856432987917,
          426.9000593161489,
          430.4680840836018,
          424.79859487295556,
          429.12486259093095,
          427.063230150696,
          425.72316906454324,
          418.55821920731483,
          424.180105140885,
          427.063230150696,
          434.07594085401297,
          426.0839547415843,
          425.17783299686783,
          426.3931996076195,
          430.6362888766666,
          413.6871333298514,
          427.836342315784,
          423.1677413676387,
          398.53865531721715,
          409.9251593028444,
          400.4456653244345,
          408.92059272563813,
          410.59065669106246,
          400.7549101904698,
          403.2288691187517,
          402.1933382372926,
          403.78812447843995,
          406.3467125818625,
          405.43657559047494,
          403.1402506188626,
          406.1920901488449,
          404.8443355013157,
          408.19902137155583,
          407.75591208573934,
          403.12578749674003,
          403.850975921,
          402.09497127662246,
          407.5497488417159,
          406.00437935169253,
          399.99942155402226,
          407.1198247469506,
          400.70336937946394,
          405.6219808212622,
          405.52205960576856,
          406.7043378523855,
          405.05417706004454,
          406.26122856656895,
          402.62800291532193,
          406.4158509995866,
          408.8690519146322,
          410.304345635938,
          405.728222849792,
          405.4374304306279,
          403.0227058747282,
          406.2951717708566,
          407.0343407316571,
          403.76565678489777,
          408.32286100680403,
          399.16076211946546,
          404.61277745453395,
          407.9960185340505,
          404.95511068470387,
          410.8791435438613,
          405.2828079976103,
          406.60441663689187,
          400.8201369961865,
          404.6458658186687,
          406.9312591096454,
          405.6726667921151,
          405.0471829133387,
          403.9242944645864,
          413.1469392281199,
          400.13642045839924,
          404.61192261438106,
          405.69513448565726,
          406.5497154193679,
          403.9202792179154,
          400.80645100147564,
          410.8823039503795,
          407.322827584456,
          399.9255425530341,
          403.1511822994983,
          407.27444717996826,
          411.60071489794353,
          406.22185322727023,
          401.21877748952267,
          407.89293691203875,
          406.60125623037374,
          402.83416615934544,
          406.36431018858076,
          409.0236743476499,
          405.35642777937403,
          402.9196242527165,
          403.250248674839,
          409.2298375916734,
          401.54564588419856,
          406.24047055333267,
          408.71442948161456,
          401.32185911153437,
          405.8497569186749,
          402.2116611806039,
          404.53876894998587,
          411.1105979559795,
          400.13642045839924,
          399.11929023299257,
          408.3536438045735,
          404.28106489495644,
          403.79581803981637,
          403.3787768904278,
          406.60441663689187,
          398.7963593722465,
          407.8589937077511,
          404.1819985196158,
          408.2759310633976,
          402.21173889334506,
          409.2298375916734,
          407.06512352942656,
          405.35565065196226,
          406.24363095985075,
          400.6002877574521,
          409.02683475416796,
          408.5114266441092,
          403.8941850004865,
          401.6311039775696,
          404.43568732797405,
          412.68307192906695,
          405.35565065196226,
          408.0959397495441,
          405.41897798375675,
          405.8272892251327,
          406.62201424361007,
          404.4658485828927,
          407.68361326149716,
          407.8152241708629,
          407.1198247469506,
          403.4011150804101,
          405.31188111507396,
          405.40719146296817,
          402.37037657303375,
          406.3349260610739,
          403.20272311050417,
          408.42602034155686,
          406.95341579314436,
          405.2087994930622,
          409.76600371496846,
          405.46650354809157,
          405.21281473973323,
          405.46650354809157,
          411.23992922090247,
          400.5487469464462,
          402.5072977646695,
          400.6471139071164,
          398.33249207319363,
          404.43970257464514,
          403.6588191354394,
          405.20965433321516,
          477.9705192743327,
          473.90171286037577,
          487.2478652553901,
          483.0251358230861,
          481.99070253279086,
          487.3947941270313,
          478.38284576237965,
          486.85777316358326,
          488.24937506074184,
          484.19926384466703,
          465.88432866713214,
          467.37507465237275,
          454.195952913094,
          466.4287227282045,
          467.27515343687907,
          466.31433047463855,
          468.3028092504784,
          473.3054283245663,
          457.306076892906,
          456.1545037313173,
          464.53947520689667,
          466.6019624872846,
          472.94464264752526,
          461.78643266749805,
          461.7485001384619,
          466.62733136812045,
          461.9624346566029,
          462.3018407775567,
          465.5196054561612,
          461.83797347850395,
          466.9143677598379,
          469.02754101107877,
          465.571146267167,
          466.26278966363276,
          469.29882742615536,
          466.9659085708438,
          471.6343446397979,
          473.7692956236192,
          466.1412555947498,
          462.66262645459796,
          466.7565849203022,
          465.4896774985446,
          468.92445938906707,
          459.169317363235,
          462.52570526296216,
          471.61816392141964,
          465.4332666007148,
          466.4211681240969,
          480.87876713591186,
          460.7040756363746,
          456.1021857928996,
          465.00419734610233,
          469.61294237901456,
          465.67422788917884,
          456.4552001958231,
          468.61205411651366,
          467.7526030959791,
          470.643758599132,
          462.8901692547086,
          468.89512705237877,
          466.1896359992375,
          464.6425568289084,
          467.326694247885,
          457.51224013692945,
          466.1119232580616,
          471.1922550733255,
          461.44702654654424,
          472.5291557529601,
          472.3745333199425,
          462.611085643592,
          463.14787330973803,
          454.65134952335865,
          473.92391805663686,
          464.07962315451476,
          459.3239397962526,
          465.14797372717527,
          466.8812793957032,
          466.634885972228,
          464.0756079078438,
          470.9353281457079,
          461.3439449245324,
          459.4884757283209,
          461.60164897956173,
          466.4211681240969,
          459.4777851018584,
          465.23966700489166,
          469.0790818220847,
          472.8384006189954,
          471.5498803438485,
          462.1472183445392,
          459.0400897329757,
          459.0916305439816,
          467.2458211001908,
          459.41555536122786,
          452.9590511616942,
          461.52872861246874,
          468.461369217426,
          468.099806412973,
          459.1431713549874,
          465.0557381571083,
          457.36453413787643,
          469.23054384858415,
          464.69495248006723,
          471.29611382274896,
          458.885467299958,
          466.4287227282045,
          475.1577371142597,
          453.9382488580646,
          460.54945320335713,
          459.6217186052514,
          471.9146035548195,
          463.93858308154444,
          464.9440304208261,
          469.4367070926077,
          470.5745424686668,
          462.9417100657146,
          466.70820451581443,
          466.88503542314976,
          465.8026783920264,
          466.81128613782613,
          458.8599947844586,
          462.9718713206332,
          462.7141672656038,
          467.2236126258732,
          470.10673763568406,
          461.2710245574393,
          466.9659085708438,
          469.3883266881199,
          468.976000200073,
          465.11043937463234,
          461.4625078502517,
          458.08688261937044,
          457.829178564341,
          472.7384794035018,
          464.2088507847742,
          460.65253482536883,
          468.4574316834961,
          468.6336669699029,
          457.36453413787643,
          464.9526565350966,
          452.8558918269413,
          464.505532002609,
          460.72545519246194,
          469.1821634440964,
          447.4956474823303,
          452.08285737459437,
          465.66969473432056,
          464.798034102079,
          471.0376326403079,
          460.4246974834285,
          466.47270893510284,
          461.5802694234746,
          458.6793040559345,
          466.85966654231396,
          469.0759214155666,
          467.91209561582076,
          471.8591252098838,
          463.848065107733,
          459.64309816133857,
          464.8788813278506,
          466.10816723061515,
          463.1487281498909,
          464.7894079878085,
          464.7464932910731,
          466.1412555947498,
          461.35942622824,
          465.0588985636264,
          466.5458885214204,
          467.06899019285555,
          452.3920245278884,
          457.82840143692937,
          461.24086330252067,
          466.8812793957032,
          452.8043510159354,
          384.42397405452516,
          372.99212370343747,
          386.3895190194543,
          383.0323721573666,
          380.12776379772635,
          384.53404982324275,
          386.441914670613,
          385.6609535186662,
          382.56850485831364,
          392.8321981079298,
          380.1453096136258,
          385.6164068543662,
          379.5784384053024,
          384.1217233351958,
          386.8272143883371,
          384.4825090122369,
          383.24552954809593,
          386.2357514265896,
          384.8363005425722,
          394.9969121701765,
          389.01817809349495
         ],
         "yaxis": "y"
        }
       ],
       "layout": {
        "legend": {
         "tracegroupgap": 0
        },
        "margin": {
         "t": 60
        },
        "template": {
         "data": {
          "bar": [
           {
            "error_x": {
             "color": "#2a3f5f"
            },
            "error_y": {
             "color": "#2a3f5f"
            },
            "marker": {
             "line": {
              "color": "#E5ECF6",
              "width": 0.5
             },
             "pattern": {
              "fillmode": "overlay",
              "size": 10,
              "solidity": 0.2
             }
            },
            "type": "bar"
           }
          ],
          "barpolar": [
           {
            "marker": {
             "line": {
              "color": "#E5ECF6",
              "width": 0.5
             },
             "pattern": {
              "fillmode": "overlay",
              "size": 10,
              "solidity": 0.2
             }
            },
            "type": "barpolar"
           }
          ],
          "carpet": [
           {
            "aaxis": {
             "endlinecolor": "#2a3f5f",
             "gridcolor": "white",
             "linecolor": "white",
             "minorgridcolor": "white",
             "startlinecolor": "#2a3f5f"
            },
            "baxis": {
             "endlinecolor": "#2a3f5f",
             "gridcolor": "white",
             "linecolor": "white",
             "minorgridcolor": "white",
             "startlinecolor": "#2a3f5f"
            },
            "type": "carpet"
           }
          ],
          "choropleth": [
           {
            "colorbar": {
             "outlinewidth": 0,
             "ticks": ""
            },
            "type": "choropleth"
           }
          ],
          "contour": [
           {
            "colorbar": {
             "outlinewidth": 0,
             "ticks": ""
            },
            "colorscale": [
             [
              0,
              "#0d0887"
             ],
             [
              0.1111111111111111,
              "#46039f"
             ],
             [
              0.2222222222222222,
              "#7201a8"
             ],
             [
              0.3333333333333333,
              "#9c179e"
             ],
             [
              0.4444444444444444,
              "#bd3786"
             ],
             [
              0.5555555555555556,
              "#d8576b"
             ],
             [
              0.6666666666666666,
              "#ed7953"
             ],
             [
              0.7777777777777778,
              "#fb9f3a"
             ],
             [
              0.8888888888888888,
              "#fdca26"
             ],
             [
              1,
              "#f0f921"
             ]
            ],
            "type": "contour"
           }
          ],
          "contourcarpet": [
           {
            "colorbar": {
             "outlinewidth": 0,
             "ticks": ""
            },
            "type": "contourcarpet"
           }
          ],
          "heatmap": [
           {
            "colorbar": {
             "outlinewidth": 0,
             "ticks": ""
            },
            "colorscale": [
             [
              0,
              "#0d0887"
             ],
             [
              0.1111111111111111,
              "#46039f"
             ],
             [
              0.2222222222222222,
              "#7201a8"
             ],
             [
              0.3333333333333333,
              "#9c179e"
             ],
             [
              0.4444444444444444,
              "#bd3786"
             ],
             [
              0.5555555555555556,
              "#d8576b"
             ],
             [
              0.6666666666666666,
              "#ed7953"
             ],
             [
              0.7777777777777778,
              "#fb9f3a"
             ],
             [
              0.8888888888888888,
              "#fdca26"
             ],
             [
              1,
              "#f0f921"
             ]
            ],
            "type": "heatmap"
           }
          ],
          "heatmapgl": [
           {
            "colorbar": {
             "outlinewidth": 0,
             "ticks": ""
            },
            "colorscale": [
             [
              0,
              "#0d0887"
             ],
             [
              0.1111111111111111,
              "#46039f"
             ],
             [
              0.2222222222222222,
              "#7201a8"
             ],
             [
              0.3333333333333333,
              "#9c179e"
             ],
             [
              0.4444444444444444,
              "#bd3786"
             ],
             [
              0.5555555555555556,
              "#d8576b"
             ],
             [
              0.6666666666666666,
              "#ed7953"
             ],
             [
              0.7777777777777778,
              "#fb9f3a"
             ],
             [
              0.8888888888888888,
              "#fdca26"
             ],
             [
              1,
              "#f0f921"
             ]
            ],
            "type": "heatmapgl"
           }
          ],
          "histogram": [
           {
            "marker": {
             "pattern": {
              "fillmode": "overlay",
              "size": 10,
              "solidity": 0.2
             }
            },
            "type": "histogram"
           }
          ],
          "histogram2d": [
           {
            "colorbar": {
             "outlinewidth": 0,
             "ticks": ""
            },
            "colorscale": [
             [
              0,
              "#0d0887"
             ],
             [
              0.1111111111111111,
              "#46039f"
             ],
             [
              0.2222222222222222,
              "#7201a8"
             ],
             [
              0.3333333333333333,
              "#9c179e"
             ],
             [
              0.4444444444444444,
              "#bd3786"
             ],
             [
              0.5555555555555556,
              "#d8576b"
             ],
             [
              0.6666666666666666,
              "#ed7953"
             ],
             [
              0.7777777777777778,
              "#fb9f3a"
             ],
             [
              0.8888888888888888,
              "#fdca26"
             ],
             [
              1,
              "#f0f921"
             ]
            ],
            "type": "histogram2d"
           }
          ],
          "histogram2dcontour": [
           {
            "colorbar": {
             "outlinewidth": 0,
             "ticks": ""
            },
            "colorscale": [
             [
              0,
              "#0d0887"
             ],
             [
              0.1111111111111111,
              "#46039f"
             ],
             [
              0.2222222222222222,
              "#7201a8"
             ],
             [
              0.3333333333333333,
              "#9c179e"
             ],
             [
              0.4444444444444444,
              "#bd3786"
             ],
             [
              0.5555555555555556,
              "#d8576b"
             ],
             [
              0.6666666666666666,
              "#ed7953"
             ],
             [
              0.7777777777777778,
              "#fb9f3a"
             ],
             [
              0.8888888888888888,
              "#fdca26"
             ],
             [
              1,
              "#f0f921"
             ]
            ],
            "type": "histogram2dcontour"
           }
          ],
          "mesh3d": [
           {
            "colorbar": {
             "outlinewidth": 0,
             "ticks": ""
            },
            "type": "mesh3d"
           }
          ],
          "parcoords": [
           {
            "line": {
             "colorbar": {
              "outlinewidth": 0,
              "ticks": ""
             }
            },
            "type": "parcoords"
           }
          ],
          "pie": [
           {
            "automargin": true,
            "type": "pie"
           }
          ],
          "scatter": [
           {
            "fillpattern": {
             "fillmode": "overlay",
             "size": 10,
             "solidity": 0.2
            },
            "type": "scatter"
           }
          ],
          "scatter3d": [
           {
            "line": {
             "colorbar": {
              "outlinewidth": 0,
              "ticks": ""
             }
            },
            "marker": {
             "colorbar": {
              "outlinewidth": 0,
              "ticks": ""
             }
            },
            "type": "scatter3d"
           }
          ],
          "scattercarpet": [
           {
            "marker": {
             "colorbar": {
              "outlinewidth": 0,
              "ticks": ""
             }
            },
            "type": "scattercarpet"
           }
          ],
          "scattergeo": [
           {
            "marker": {
             "colorbar": {
              "outlinewidth": 0,
              "ticks": ""
             }
            },
            "type": "scattergeo"
           }
          ],
          "scattergl": [
           {
            "marker": {
             "colorbar": {
              "outlinewidth": 0,
              "ticks": ""
             }
            },
            "type": "scattergl"
           }
          ],
          "scattermapbox": [
           {
            "marker": {
             "colorbar": {
              "outlinewidth": 0,
              "ticks": ""
             }
            },
            "type": "scattermapbox"
           }
          ],
          "scatterpolar": [
           {
            "marker": {
             "colorbar": {
              "outlinewidth": 0,
              "ticks": ""
             }
            },
            "type": "scatterpolar"
           }
          ],
          "scatterpolargl": [
           {
            "marker": {
             "colorbar": {
              "outlinewidth": 0,
              "ticks": ""
             }
            },
            "type": "scatterpolargl"
           }
          ],
          "scatterternary": [
           {
            "marker": {
             "colorbar": {
              "outlinewidth": 0,
              "ticks": ""
             }
            },
            "type": "scatterternary"
           }
          ],
          "surface": [
           {
            "colorbar": {
             "outlinewidth": 0,
             "ticks": ""
            },
            "colorscale": [
             [
              0,
              "#0d0887"
             ],
             [
              0.1111111111111111,
              "#46039f"
             ],
             [
              0.2222222222222222,
              "#7201a8"
             ],
             [
              0.3333333333333333,
              "#9c179e"
             ],
             [
              0.4444444444444444,
              "#bd3786"
             ],
             [
              0.5555555555555556,
              "#d8576b"
             ],
             [
              0.6666666666666666,
              "#ed7953"
             ],
             [
              0.7777777777777778,
              "#fb9f3a"
             ],
             [
              0.8888888888888888,
              "#fdca26"
             ],
             [
              1,
              "#f0f921"
             ]
            ],
            "type": "surface"
           }
          ],
          "table": [
           {
            "cells": {
             "fill": {
              "color": "#EBF0F8"
             },
             "line": {
              "color": "white"
             }
            },
            "header": {
             "fill": {
              "color": "#C8D4E3"
             },
             "line": {
              "color": "white"
             }
            },
            "type": "table"
           }
          ]
         },
         "layout": {
          "annotationdefaults": {
           "arrowcolor": "#2a3f5f",
           "arrowhead": 0,
           "arrowwidth": 1
          },
          "autotypenumbers": "strict",
          "coloraxis": {
           "colorbar": {
            "outlinewidth": 0,
            "ticks": ""
           }
          },
          "colorscale": {
           "diverging": [
            [
             0,
             "#8e0152"
            ],
            [
             0.1,
             "#c51b7d"
            ],
            [
             0.2,
             "#de77ae"
            ],
            [
             0.3,
             "#f1b6da"
            ],
            [
             0.4,
             "#fde0ef"
            ],
            [
             0.5,
             "#f7f7f7"
            ],
            [
             0.6,
             "#e6f5d0"
            ],
            [
             0.7,
             "#b8e186"
            ],
            [
             0.8,
             "#7fbc41"
            ],
            [
             0.9,
             "#4d9221"
            ],
            [
             1,
             "#276419"
            ]
           ],
           "sequential": [
            [
             0,
             "#0d0887"
            ],
            [
             0.1111111111111111,
             "#46039f"
            ],
            [
             0.2222222222222222,
             "#7201a8"
            ],
            [
             0.3333333333333333,
             "#9c179e"
            ],
            [
             0.4444444444444444,
             "#bd3786"
            ],
            [
             0.5555555555555556,
             "#d8576b"
            ],
            [
             0.6666666666666666,
             "#ed7953"
            ],
            [
             0.7777777777777778,
             "#fb9f3a"
            ],
            [
             0.8888888888888888,
             "#fdca26"
            ],
            [
             1,
             "#f0f921"
            ]
           ],
           "sequentialminus": [
            [
             0,
             "#0d0887"
            ],
            [
             0.1111111111111111,
             "#46039f"
            ],
            [
             0.2222222222222222,
             "#7201a8"
            ],
            [
             0.3333333333333333,
             "#9c179e"
            ],
            [
             0.4444444444444444,
             "#bd3786"
            ],
            [
             0.5555555555555556,
             "#d8576b"
            ],
            [
             0.6666666666666666,
             "#ed7953"
            ],
            [
             0.7777777777777778,
             "#fb9f3a"
            ],
            [
             0.8888888888888888,
             "#fdca26"
            ],
            [
             1,
             "#f0f921"
            ]
           ]
          },
          "colorway": [
           "#636efa",
           "#EF553B",
           "#00cc96",
           "#ab63fa",
           "#FFA15A",
           "#19d3f3",
           "#FF6692",
           "#B6E880",
           "#FF97FF",
           "#FECB52"
          ],
          "font": {
           "color": "#2a3f5f"
          },
          "geo": {
           "bgcolor": "white",
           "lakecolor": "white",
           "landcolor": "#E5ECF6",
           "showlakes": true,
           "showland": true,
           "subunitcolor": "white"
          },
          "hoverlabel": {
           "align": "left"
          },
          "hovermode": "closest",
          "mapbox": {
           "style": "light"
          },
          "paper_bgcolor": "white",
          "plot_bgcolor": "#E5ECF6",
          "polar": {
           "angularaxis": {
            "gridcolor": "white",
            "linecolor": "white",
            "ticks": ""
           },
           "bgcolor": "#E5ECF6",
           "radialaxis": {
            "gridcolor": "white",
            "linecolor": "white",
            "ticks": ""
           }
          },
          "scene": {
           "xaxis": {
            "backgroundcolor": "#E5ECF6",
            "gridcolor": "white",
            "gridwidth": 2,
            "linecolor": "white",
            "showbackground": true,
            "ticks": "",
            "zerolinecolor": "white"
           },
           "yaxis": {
            "backgroundcolor": "#E5ECF6",
            "gridcolor": "white",
            "gridwidth": 2,
            "linecolor": "white",
            "showbackground": true,
            "ticks": "",
            "zerolinecolor": "white"
           },
           "zaxis": {
            "backgroundcolor": "#E5ECF6",
            "gridcolor": "white",
            "gridwidth": 2,
            "linecolor": "white",
            "showbackground": true,
            "ticks": "",
            "zerolinecolor": "white"
           }
          },
          "shapedefaults": {
           "line": {
            "color": "#2a3f5f"
           }
          },
          "ternary": {
           "aaxis": {
            "gridcolor": "white",
            "linecolor": "white",
            "ticks": ""
           },
           "baxis": {
            "gridcolor": "white",
            "linecolor": "white",
            "ticks": ""
           },
           "bgcolor": "#E5ECF6",
           "caxis": {
            "gridcolor": "white",
            "linecolor": "white",
            "ticks": ""
           }
          },
          "title": {
           "x": 0.05
          },
          "xaxis": {
           "automargin": true,
           "gridcolor": "white",
           "linecolor": "white",
           "ticks": "",
           "title": {
            "standoff": 15
           },
           "zerolinecolor": "white",
           "zerolinewidth": 2
          },
          "yaxis": {
           "automargin": true,
           "gridcolor": "white",
           "linecolor": "white",
           "ticks": "",
           "title": {
            "standoff": 15
           },
           "zerolinecolor": "white",
           "zerolinewidth": 2
          }
         }
        },
        "xaxis": {
         "anchor": "y",
         "domain": [
          0,
          1
         ],
         "title": {
          "text": "x"
         }
        },
        "yaxis": {
         "anchor": "x",
         "domain": [
          0,
          1
         ],
         "title": {
          "text": "y"
         }
        }
       }
      }
     },
     "metadata": {},
     "output_type": "display_data"
    }
   ],
   "source": [
    "import pandas as pd\n",
    "from sklearn.preprocessing import StandardScaler\n",
    "from sklearn.neural_network import MLPRegressor\n",
    "from sklearn.metrics import mean_squared_error, r2_score\n",
    "import plotly.express as px\n",
    "\n",
    "# Standardize the features\n",
    "scaler = StandardScaler()\n",
    "scaler.fit(X_train)  # Fit on training data only\n",
    "X_train_scaled = scaler.transform(X_train)\n",
    "X_val_scaled = scaler.transform(X_val)\n",
    "X_test_scaled = scaler.transform(X_test)\n",
    "\n",
    "# Create and train the MLPRegressor\n",
    "mlp = MLPRegressor(hidden_layer_sizes=(25, 20, 15), activation='identity', solver='adam', max_iter=2000, random_state=42)\n",
    "mlp.fit(X_train_scaled, y_train)\n",
    "\n",
    "# Validate the model\n",
    "y_val_pred = mlp.predict(X_val_scaled)\n",
    "val_mse = mean_squared_error(y_val, y_val_pred)\n",
    "val_r2 = r2_score(y_val, y_val_pred)\n",
    "\n",
    "print(f\"Validation MSE: {val_mse:.2f}\")\n",
    "print(f\"Validation R^2: {val_r2:.2f}\")\n",
    "\n",
    "# Evaluate on test data\n",
    "y_test_pred = mlp.predict(X_test_scaled)\n",
    "test_mse = mean_squared_error(y_test, y_test_pred)\n",
    "test_r2 = r2_score(y_test, y_test_pred)\n",
    "\n",
    "print(f\"Test MSE: {test_mse:.2f}\")\n",
    "print(f\"Test R^2: {test_r2:.2f}\")\n",
    "\n",
    "# Get the predicted values on the test set\n",
    "y_test_pred = mlp.predict(X_test_scaled)\n",
    "\n",
    "# Create a DataFrame to compare the actual vs predicted values\n",
    "results = pd.DataFrame({\n",
    "    'Actual 2k tijd': y_test,\n",
    "    'Predicted 2k tijd': y_test_pred,\n",
    "    'Difference': y_test - y_test_pred\n",
    "})\n",
    "\n",
    "# Display a few examples\n",
    "print(results.head(10))  # You can adjust the number of rows displayed\n",
    "\n",
    "\n",
    "# Plot 1: Predictions vs Actual for Validation Set (NN)\n",
    "plt.figure(figsize=(10, 6))\n",
    "plt.scatter(y_val, y_val_pred, alpha=0.7, label='NN Validation Predictions')\n",
    "plt.plot([min(y_val), max(y_val)], [min(y_val), max(y_val)], color='red', linestyle='--', linewidth=2, label='Ideal Fit')\n",
    "plt.xlabel('Actual Values')\n",
    "plt.ylabel('Predicted Values')\n",
    "plt.title('NN Validation Predictions vs. Actual Values')\n",
    "plt.legend()\n",
    "plt.grid(True)\n",
    "plt.show()\n",
    "\n",
    "# Plot 2: Predictions vs Actual for Test Set (MLP)\n",
    "plt.figure(figsize=(10, 6))\n",
    "plt.scatter(y_test, y_test_pred, alpha=0.7, label='MLP Test Predictions')\n",
    "plt.plot([min(y_test), max(y_test)], [min(y_test), max(y_test)], color='red', linestyle='--', linewidth=2, label='Ideal Fit')\n",
    "plt.xlabel('Actual Values')\n",
    "plt.ylabel('Predicted Values')\n",
    "plt.title('MLP Test Predictions vs. Actual Values')\n",
    "plt.legend()\n",
    "plt.grid(True)\n",
    "plt.show()\n",
    "\n",
    "# Plot 3: Residuals for Test Set (MLP)\n",
    "residuals_mlp = y_test - y_test_pred\n",
    "plt.figure(figsize=(10, 6))\n",
    "plt.scatter(y_test_pred, residuals_mlp, alpha=0.7)\n",
    "plt.axhline(0, color='red', linestyle='--', linewidth=2)\n",
    "plt.xlabel('Predicted Values')\n",
    "plt.ylabel('Residuals')\n",
    "plt.title('Residual Analysis (Test Set - MLP)')\n",
    "plt.grid(True)\n",
    "plt.show()\n",
    "\n",
    "data = pd.DataFrame()\n",
    "data['x'] = y_test\n",
    "data['y'] = y_test_pred\n",
    "p = px.scatter(data,x='x',y='y')\n",
    "p.show()"
   ]
  },
  {
   "cell_type": "code",
   "execution_count": null,
   "metadata": {},
   "outputs": [],
   "source": []
  }
 ],
 "metadata": {
  "kernelspec": {
   "display_name": "base",
   "language": "python",
   "name": "python3"
  },
  "language_info": {
   "codemirror_mode": {
    "name": "ipython",
    "version": 3
   },
   "file_extension": ".py",
   "mimetype": "text/x-python",
   "name": "python",
   "nbconvert_exporter": "python",
   "pygments_lexer": "ipython3",
   "version": "3.12.3"
  }
 },
 "nbformat": 4,
 "nbformat_minor": 2
}
