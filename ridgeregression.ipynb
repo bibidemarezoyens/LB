{
 "cells": [
  {
   "cell_type": "code",
   "execution_count": 5,
   "metadata": {},
   "outputs": [],
   "source": [
    "import numpy as np \n",
    "import pandas as pd \n",
    "from sklearn.model_selection import train_test_split\n",
    "import matplotlib.pyplot as plt "
   ]
  },
  {
   "cell_type": "code",
   "execution_count": 7,
   "metadata": {},
   "outputs": [
    {
     "name": "stdout",
     "output_type": "stream",
     "text": [
      "   ervaring geslacht gewichtsklasse naam trainingtype  500_split  2k tijd  \\\n",
      "0         1        M              Z  z47         5x5'      104.6    379.9   \n",
      "1         1        M              Z  z47         5x5'      104.7    379.9   \n",
      "2         1        M              Z  z47         5x5'      104.3    379.9   \n",
      "3         1        M              Z  z47         5x5'      104.0    379.9   \n",
      "4         1        M              Z  z47         5x5'      104.1    379.9   \n",
      "\n",
      "     2k datum  binary_trainingtype  \n",
      "0  2018-12-08                    0  \n",
      "1  2018-12-08                    0  \n",
      "2  2018-12-08                    0  \n",
      "3  2018-12-08                    0  \n",
      "4  2018-12-08                    0  \n"
     ]
    }
   ],
   "source": [
    "dataframe = pd.read_csv(\"new_dataframe.csv\")\n",
    "print(dataframe.head())"
   ]
  }
 ],
 "metadata": {
  "kernelspec": {
   "display_name": "base",
   "language": "python",
   "name": "python3"
  },
  "language_info": {
   "codemirror_mode": {
    "name": "ipython",
    "version": 3
   },
   "file_extension": ".py",
   "mimetype": "text/x-python",
   "name": "python",
   "nbconvert_exporter": "python",
   "pygments_lexer": "ipython3",
   "version": "3.12.3"
  }
 },
 "nbformat": 4,
 "nbformat_minor": 2
}
