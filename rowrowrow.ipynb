{
  "cells": [
    {
      "cell_type": "markdown",
      "metadata": {
        "colab_type": "text",
        "id": "view-in-github"
      },
      "source": [
        "<a href=\"https://colab.research.google.com/github/bibidemarezoyens/LB/blob/main/rowrowrow.ipynb\" target=\"_parent\"><img src=\"https://colab.research.google.com/assets/colab-badge.svg\" alt=\"Open In Colab\"/></a>"
      ]
    },
    {
      "cell_type": "code",
<<<<<<< HEAD
      "execution_count": null,
=======
      "execution_count": 1,
>>>>>>> jade
      "metadata": {
        "id": "UnXoqEc9ds24"
      },
      "outputs": [],
      "source": [
        "import pandas as pd\n",
        "import matplotlib.pyplot as plt"
      ]
    },
    {
      "cell_type": "code",
<<<<<<< HEAD
      "execution_count": 6,
=======
      "execution_count": 2,
>>>>>>> jade
      "metadata": {
        "colab": {
          "base_uri": "https://localhost:8080/",
          "height": 287
        },
        "id": "q2S_zKlyf4qd",
        "outputId": "f133864a-0fa6-4b22-ef4c-e7fe47c3ad1c"
      },
      "outputs": [],
      "source": [
        "complete_df = pd.read_excel('data_okeanos.xlsx')"
      ]
    },
    {
      "cell_type": "code",
<<<<<<< HEAD
      "execution_count": 7,
=======
      "execution_count": 14,
>>>>>>> jade
      "metadata": {
        "id": "-VuEps4qoZyG"
      },
      "outputs": [],
      "source": [
        "def opschonen(data):\n",
        "    ### Onnodige kolommen verwijderen\n",
        "    complete_df = pd.read_excel(data)\n",
        "    clean_col_df = complete_df.drop(columns=['datum', 'ploeg', 'zone', 'intervaltype', 'interval_afstand', 'interval_tijd', 'interval_nummer', 'rust', 'machine', 'spm'], errors='ignore')\n",
        "\n",
        "    print(clean_col_df)\n",
        "    \n",
        "    ### Lege strings omzetten naar NaN in de specifieke kolommen\n",
        "    clean_col_df['500_split'] = clean_col_df['500_split'].replace('', pd.NA)\n",
        "    clean_col_df['2k tijd'] = clean_col_df['2k tijd'].replace('', pd.NA)\n",
        "\n",
        "    ### Alleen rijen met lege '500_split' of '2k tijd' verwijderen\n",
        "    clean_row_df = clean_col_df.dropna(subset=['500_split', '2k tijd'])\n",
        "    clean_row_df.dropna(how='any',inplace=True)\n",
        "\n",
        "    ### Maak een kopie voor opschonen\n",
        "    clean_df = clean_row_df.copy()\n",
        "    clean_df.dropna(subset=['500_split', '2k tijd'])\n",
        "\n",
        "    ### Komma's naar punten veranderen in ‘500_split’ en ‘2k tijd’ columns en uren veranderen naar minuten (00:01:11.11 wordt 1:11.11)\n",
        "    for col in ['500_split', '2k tijd']:\n",
        "        print(clean_df[col])\n",
        "        clean_df[col] = clean_df[col].astype(str).str.strip()\n",
        "        clean_df[col] = clean_df[col].str.replace(',', '.', regex=False)\n",
        "        clean_df[col] = clean_df[col].str.lstrip('0')\n",
        "\n",
        "        # clean_df[col] = clean_df[col].astype(str).str.strip()\n",
        "        # clean_df[col] = clean_df[col].str.replace(',', '.', regex=False)\n",
        "        # clean_df[col] = clean_df[col].str.lstrip('0')\n",
        "        # clean_df[col] = clean_df[col].str.replace('^0:0', '', regex=True)\n",
        "        print(clean_df[col])\n",
        "\n",
        "    ### Verander 'trainingype' naar 'trainingtype'\n",
        "    clean_df = clean_df.rename(columns={'trainingype': 'trainingtype'})\n",
        "\n",
        "    return clean_df"
      ]
    },
    {
      "cell_type": "code",
<<<<<<< HEAD
      "execution_count": 8,
=======
      "execution_count": 15,
>>>>>>> jade
      "metadata": {
        "id": "zRyNU3YL4mAZ"
      },
      "outputs": [],
      "source": [
        "### de minuten veranderen naar seconden\n",
        "\n",
        "def time_to_seconds(time_str):\n",
        "    if pd.isna(time_str):\n",
        "        return None\n",
        "    try:\n",
        "        minutes, seconds = map(float, str(time_str).split(':'))\n",
        "        print('GOOD:', time_str)\n",
        "        return minutes * 60 + seconds\n",
        "    except ValueError:\n",
        "        print('ERROR:', time_str)\n",
        "        return None\n",
        "\n",
        "def verander_omzetting_seconden(docu):\n",
        "    docu['500_split'] = docu['500_split'].apply(time_to_seconds)\n",
        "    docu['2k tijd'] = docu['2k tijd'].apply(time_to_seconds)\n",
        "    return docu\n"
      ]
    },
    {
      "cell_type": "code",
<<<<<<< HEAD
      "execution_count": null,
      "metadata": {
        "id": "3qogGIOW4plM"
      },
      "outputs": [],
=======
      "execution_count": 16,
      "metadata": {
        "id": "3qogGIOW4plM"
      },
      "outputs": [
        {
          "name": "stdout",
          "output_type": "stream",
          "text": [
            "      ervaring geslacht gewichtsklasse   naam trainingype        500_split  \\\n",
            "0          1.0        M              Z    z47        5x5'           1:44.6   \n",
            "1          1.0        M              Z    z47        5x5'           1:44.7   \n",
            "2          1.0        M              Z    z47        5x5'           1:44.3   \n",
            "3          1.0        M              Z    z47        5x5'           1:44.0   \n",
            "4          1.0        M              Z    z47        5x5'           1:44.1   \n",
            "...        ...      ...            ...    ...         ...              ...   \n",
            "7433       1.0        M              L  Z2522      1x2000  00:06:37.400000   \n",
            "7434       1.0        M              L  Z2521      1x2000  00:06:57.500000   \n",
            "7435       1.0        M              L  Z2520      1x2000         00:07:05   \n",
            "7436       1.0        M              Z  Z2517      1x2000          06:39,1   \n",
            "7437       1.0        M              Z  Z2519      1x2000          06:17,0   \n",
            "\n",
            "     aantal_intervallen   2k tijd   2k datum  \n",
            "0                     5    6:19.9 2018-12-08  \n",
            "1                     5    6:19.9 2018-12-08  \n",
            "2                     5    6:19.9 2018-12-08  \n",
            "3                     5    6:19.9 2018-12-08  \n",
            "4                     5    6:19.9 2018-12-08  \n",
            "...                 ...       ...        ...  \n",
            "7433                  1   06:37.4 2024-12-15  \n",
            "7434                  1   06:57.5 2024-12-15  \n",
            "7435                  1  07:05.00 2024-12-15  \n",
            "7436                  1   06:39,1 2024-12-15  \n",
            "7437                  1   06:17,0 2024-12-15  \n",
            "\n",
            "[7438 rows x 9 columns]\n",
            "0                1:44.6\n",
            "1                1:44.7\n",
            "2                1:44.3\n",
            "3                1:44.0\n",
            "4                1:44.1\n",
            "             ...       \n",
            "7433    00:06:37.400000\n",
            "7434    00:06:57.500000\n",
            "7435           00:07:05\n",
            "7436            06:39,1\n",
            "7437            06:17,0\n",
            "Name: 500_split, Length: 4610, dtype: object\n",
            "0              1:44.6\n",
            "1              1:44.7\n",
            "2              1:44.3\n",
            "3              1:44.0\n",
            "4              1:44.1\n",
            "            ...      \n",
            "7433    :06:37.400000\n",
            "7434    :06:57.500000\n",
            "7435           :07:05\n",
            "7436           6:39.1\n",
            "7437           6:17.0\n",
            "Name: 500_split, Length: 4610, dtype: object\n",
            "0         6:19.9\n",
            "1         6:19.9\n",
            "2         6:19.9\n",
            "3         6:19.9\n",
            "4         6:19.9\n",
            "          ...   \n",
            "7433     06:37.4\n",
            "7434     06:57.5\n",
            "7435    07:05.00\n",
            "7436     06:39,1\n",
            "7437     06:17,0\n",
            "Name: 2k tijd, Length: 4610, dtype: object\n",
            "0        6:19.9\n",
            "1        6:19.9\n",
            "2        6:19.9\n",
            "3        6:19.9\n",
            "4        6:19.9\n",
            "         ...   \n",
            "7433     6:37.4\n",
            "7434     6:57.5\n",
            "7435    7:05.00\n",
            "7436     6:39.1\n",
            "7437     6:17.0\n",
            "Name: 2k tijd, Length: 4610, dtype: object\n"
          ]
        },
        {
          "name": "stderr",
          "output_type": "stream",
          "text": [
            "/tmp/ipykernel_16488/914796000.py:14: SettingWithCopyWarning: \n",
            "A value is trying to be set on a copy of a slice from a DataFrame\n",
            "\n",
            "See the caveats in the documentation: https://pandas.pydata.org/pandas-docs/stable/user_guide/indexing.html#returning-a-view-versus-a-copy\n",
            "  clean_row_df.dropna(how='any',inplace=True)\n"
          ]
        }
      ],
>>>>>>> jade
      "source": [
        "groot_roeien_opgeschoond = opschonen('data_okeanos.xlsx')\n",
        "# klein_roeien_opgeschoond = opschonen('klein_roeien.xlsx')\n",
        "# print(groot_roeien_opgeschoond['500_split'].isnull().sum())\n"
      ]
    },
    {
      "cell_type": "code",
      "execution_count": null,
      "metadata": {
        "id": "KTbil841y0Sa"
      },
      "outputs": [],
      "source": [
        "print(groot_roeien_opgeschoond['500_split'])"
      ]
    },
    {
      "cell_type": "code",
      "execution_count": null,
      "metadata": {
        "id": "YyOzR_V6xrRi"
      },
      "outputs": [],
      "source": [
        "groot_dataframe_op_sec = verander_omzetting_seconden(groot_roeien_opgeschoond)\n",
        "# klein_dataframe_op_sec = verander_omzetting_seconden(klein_roeien_opgeschoond)\n",
        "\n",
        "print(groot_dataframe_op_sec['500_split'].isnull().sum())\n",
        "print(groot_roeien_opgeschoond['500_split'].isnull().sum())"
      ]
    },
    {
      "cell_type": "code",
      "execution_count": null,
      "metadata": {
        "id": "ixobhcnk45Sw"
      },
      "outputs": [],
      "source": [
        "print(groot_dataframe_op_sec['500_split'].isnull().sum())\n",
        "print(groot_dataframe_op_sec[groot_dataframe_op_sec['500_split'].isnull()])\n",
        "groot_dataframe_op_sec.dropna(inplace=True)\n",
        "print(groot_dataframe_op_sec['500_split'].isnull().sum())\n",
        "print(groot_dataframe_op_sec['2k tijd'].isnull().sum())\n",
        "print(groot_dataframe_op_sec)\n",
        "\n",
        "groot_dataframe_op_sec.to_csv('verschoond_dataframe.csv', index=False)"
      ]
    },
    {
      "cell_type": "code",
      "execution_count": null,
      "metadata": {
        "id": "JpCjn3AB-bi6"
      },
      "outputs": [],
      "source": [
        "def omzetten_trainingstype(data):\n",
        "    df = pd.read_excel(data)\n",
        "    print(df['trainingtype'].unique())\n",
        "\n",
        "    df['trainingtype'] = df['trainingtype'].str.replace(r\"/[a-zA-Z0-9']{3}\", \"\", regex=True)\n",
        "    df['trainingtype'] = df['trainingtype'].str.replace(\"1'\", 'minuutjes', regex=False)\n",
        "    df['trainingtype'] = df['trainingtype'].str.replace(\"1minuutjes\", \"11'\", regex=False)\n",
        "    df['trainingtype'] = df['trainingtype'].str.replace(\"'\", \"\", regex=False)\n",
        "    df['trainingtype'] = df['trainingtype'].str.replace(\" \", \"\", regex=False)\n",
        "\n",
        "    df['trainingtype'] = df['trainingtype'].str.replace(\"r\", \"\", regex=False)\n",
        "\n",
        "\n",
        "\n",
        "    # df['trainingtype'] = df['trainingtype'].str.replace(\"3x15'\", '2', regex=False)\n",
        "    # df['trainingtype'] = df['trainingtype'].str.replace(\"3x2000m/5'r\", '3', regex=False)\n",
        "    # df['trainingtype'] = df['trainingtype'].str.replace(\"5x5'\", '1', regex=False)\n",
        "    # df['trainingtype'] = df['trainingtype'].str.replace(\"5x5'\", '1', regex=False)\n",
        "    print(df['trainingtype'].unique())\n",
        "\n",
        "    # df['trainingtype'] = pd.to_numeric(df['trainingtype'], errors='coerce')\n",
        "    # print(df['trainingtype'].unique())  # Inspect unique values\n",
        "    # df['trainingtype'].str.replace(\"5x5'\", \"1\" , regex=False)\n",
        "    return df"
      ]
    },
    {
      "cell_type": "code",
      "execution_count": null,
      "metadata": {
        "id": "Zd05DWHe-kVI"
      },
      "outputs": [],
      "source": [
        "print(omzetten_trainingstype('verschoond_dataframe.xlsx'))"
      ]
    },
    {
      "cell_type": "code",
      "execution_count": null,
      "metadata": {
        "id": "CO-zkm3Jv6Ek"
      },
      "outputs": [],
      "source": [
        "### per persoon per training de gemiddelde 500_split berekenen\n",
        "\n",
        "def gemid_split(data):\n",
        "\n",
        "    gemid_data = (data.groupby(['naam', 'trainingtype'], as_index=False).agg({'ervaring': 'first', 'geslacht': 'first', 'gewichtsklasse': 'first', '500_split': 'mean', '2k tijd': 'first'}))\n",
        "\n",
        "    return gemid_data\n",
        "\n",
        "klein_gemid_df = gemid_split(klein_dataframe_op_sec)\n",
        "print(klein_gemid_df)\n",
        "groot_gemid_df = gemid_split(groot_dataframe_op_sec)\n",
        "print(groot_gemid_df)"
      ]
    },
    {
      "cell_type": "code",
      "execution_count": null,
      "metadata": {
        "id": "OR_uCECY4yQY"
      },
      "outputs": [],
      "source": [
        "### een dictionary maken van alle gegevens per persoon\n",
        "\n",
        "import json\n",
        "\n",
        "def dict_per_naam(data):\n",
        "  naam_dict = {}\n",
        "\n",
        "  for i in range(len(data)):\n",
        "      row = data.iloc[i].to_dict()\n",
        "\n",
        "      name = row.pop('naam')\n",
        "      constants = {key: row.pop(key) for key in ['ervaring', 'geslacht', 'gewichtsklasse', '2k tijd']}\n",
        "\n",
        "      if name not in naam_dict:\n",
        "          naam_dict[name] = {'gegevens': constants, 'tijden': []}\n",
        "\n",
        "      naam_dict[name]['tijden'].append(row)\n",
        "\n",
        "  print(json.dumps(naam_dict, indent=4, sort_keys=False))\n",
        "\n",
        "  return naam_dict\n",
        "\n",
        "klein_namen_dict = dict_per_naam(klein_dataframe_op_sec)\n",
        "gemid_klein_namen_dict = dict_per_naam(klein_gemid_df)"
      ]
    },
    {
      "cell_type": "code",
      "execution_count": null,
      "metadata": {
        "id": "_n793CyiR6LO"
      },
      "outputs": [],
      "source": [
        "# groot_namen_dict = dict_per_naam(groot_dataframe_op_sec[:1000])\n",
        "# gemid_groot_namen_dict = dict_per_naam(groot_gemid_df)\n",
        "\n",
        "gemid_klein_namen_dict = dict_per_naam(klein_gemid_df)"
      ]
    },
    {
      "cell_type": "code",
      "execution_count": null,
      "metadata": {
        "id": "a3zGA813ZQyL"
      },
      "outputs": [],
      "source": [
        "from sklearn.model_selection import train_test_split\n",
        "\n",
        "# # Data inladen\n",
        "# df = groot_gemid_df\n",
        "\n",
        "# # Eerst de data opschudden om bias te voorkomen\n",
        "# df = df.sample(frac=1, random_state=42).reset_index(drop=True)\n",
        "\n",
        "# # Zorg ervoor dat elke ervaring, geslacht en gewichtsklasse in elke set vertegenwoordigd zijn\n",
        "# train_data = pd.DataFrame()\n",
        "# val_data = pd.DataFrame()\n",
        "# test_data = pd.DataFrame()\n",
        "\n",
        "# for ervaring in df['ervaring'].unique():\n",
        "#     for geslacht in df['geslacht'].unique():\n",
        "#         for gewichtsklasse in df['gewichtsklasse'].unique():\n",
        "#             subset = df[(df['ervaring'] == ervaring) & (df['geslacht'] == geslacht) & (df['gewichtsklasse'] == gewichtsklasse)]\n",
        "#             if not subset.empty:\n",
        "#                 temp_train, temp_temp = train_test_split(subset, test_size=0.3, random_state=42)\n",
        "#                 temp_val, temp_test = train_test_split(temp_temp, test_size=0.5, random_state=42)\n",
        "#                 train_data = pd.concat([train_data, temp_train])\n",
        "#                 val_data = pd.concat([val_data, temp_val])\n",
        "#                 test_data = pd.concat([test_data, temp_test])\n",
        "\n",
        "# # Reset indexen\n",
        "# train_data.reset_index(drop=True, inplace=True)\n",
        "# val_data.reset_index(drop=True, inplace=True)\n",
        "# test_data.reset_index(drop=True, inplace=True)\n",
        "\n",
        "# # Controleren op juiste verdeling\n",
        "# print(f\"Trainingsdata: {len(train_data)} rijen\")\n",
        "# print(f\"Validatiedata: {len(val_data)} rijen\")\n",
        "# print(f\"Testdata: {len(test_data)} rijen\")\n",
        "\n",
        "# # Optioneel: data opslaan in aparte bestanden\n",
        "# train_data.to_csv('train_data.csv', index=False)\n",
        "# val_data.to_csv('val_data.csv', index=False)\n",
        "# test_data.to_csv('test_data.csv', index=False)"
      ]
    },
    {
      "cell_type": "code",
      "execution_count": null,
      "metadata": {
        "id": "_4MfYDIcGnbb"
      },
      "outputs": [],
      "source": [
        "def tweek_naar_split(groot_dataframe_op_sec):\n",
        "    for i in range(len(groot_dataframe_op_sec['500_split'])):\n",
        "        if groot_dataframe_op_sec['500_split'].iloc[i] > 300:\n",
        "          groot_dataframe_op_sec['500_split'].iloc[i] = groot_dataframe_op_sec['500_split'].iloc[i] / 4\n",
        "    return groot_dataframe_op_sec['500_split']"
      ]
    },
    {
      "cell_type": "code",
      "execution_count": null,
      "metadata": {
        "id": "ZJOrsPxgYnL5"
      },
      "outputs": [],
      "source": [
        "alles = tweek_naar_split(groot_dataframe_op_sec)\n",
        "print(alles)\n",
        "print(len(alles))\n",
        "\n",
        "min_value = alles.min()\n",
        "filtered_alles = alles[alles!= min_value]\n",
        "\n",
        "unique_values = alles.unique()\n",
        "unique_values.sort()\n",
        "\n",
        "first_min = unique_values[0]\n",
        "second_min = unique_values[1]\n",
        "third_min = unique_values[2]\n",
        "fourth_min = unique_values[3]\n",
        "eighth_min = unique_values[7]\n",
        "\n",
        "print(first_min)\n",
        "print(second_min)\n",
        "print(third_min)\n",
        "print(fourth_min)\n",
        "print(eighth_min)\n",
        "\n",
        "unique_values_desc = alles.unique()\n",
        "unique_values_desc.sort()\n",
        "unique_values_desc = unique_values_desc[::-1]\n",
        "\n",
        "first_largest = unique_values_desc[0]\n",
        "second_largest = unique_values_desc[1]\n",
        "third_largest = unique_values_desc[2]\n",
        "eighth_largest = unique_values_desc[7]\n",
        "\n",
        "print(first_largest)\n",
        "print(second_largest)\n",
        "print(third_largest)\n",
        "print(eighth_largest)"
      ]
    },
    {
      "cell_type": "code",
      "execution_count": null,
      "metadata": {
        "id": "gJX39SPsU-nP"
      },
      "outputs": [],
      "source": [
        "def remove_outliers(groot_dataframe_op_sec):\n",
        "  alles = tweek_naar_split(groot_dataframe_op_sec)\n",
        "  alles = alles[alles >= 80]\n",
        "  return alles\n",
        "print(len(alles))"
      ]
    }
  ],
  "metadata": {
    "colab": {
      "include_colab_link": true,
      "provenance": []
    },
    "kernelspec": {
      "display_name": "base",
      "language": "python",
      "name": "python3"
    },
    "language_info": {
      "codemirror_mode": {
        "name": "ipython",
        "version": 3
      },
      "file_extension": ".py",
      "mimetype": "text/x-python",
      "name": "python",
      "nbconvert_exporter": "python",
      "pygments_lexer": "ipython3",
      "version": "3.12.3"
    }
  },
  "nbformat": 4,
  "nbformat_minor": 0
}
