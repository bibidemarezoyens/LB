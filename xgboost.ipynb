{
 "cells": [
  {
   "cell_type": "code",
   "execution_count": 33,
   "metadata": {},
   "outputs": [],
   "source": [
    "import numpy as np \n",
    "import pandas as pd \n",
    "import matplotlib.pyplot as plt \n",
    "from sklearn.model_selection import cross_val_score, GridSearchCV"
   ]
  },
  {
   "cell_type": "code",
   "execution_count": 34,
   "metadata": {},
   "outputs": [
    {
     "name": "stdout",
     "output_type": "stream",
     "text": [
      "   ervaring  500_split  2k tijd  binary_trainingtype  binary_geslacht  \\\n",
      "0       1.0      104.6    379.9                    0                0   \n",
      "1       1.0      104.7    379.9                    0                0   \n",
      "2       1.0      104.3    379.9                    0                0   \n",
      "3       1.0      104.0    379.9                    0                0   \n",
      "4       1.0      104.1    379.9                    0                0   \n",
      "\n",
      "   binary_gewichtsklasse  \n",
      "0                      1  \n",
      "1                      1  \n",
      "2                      1  \n",
      "3                      1  \n",
      "4                      1  \n",
      "Trainingsdata: 3018 rijen\n",
      "Validatiedata: 905 rijen\n",
      "Testdata: 391 rijen\n",
      "371.8\n",
      "510.1\n"
     ]
    }
   ],
   "source": [
    "from sklearn.model_selection import train_test_split\n",
    "\n",
    "# # Data inladen\n",
    "df = pd.read_csv(\"final_df.csv\")\n",
    "print(df.head())\n",
    "# df = groot_gemid_df\n",
    "\n",
    "# Eerst de data opschudden om bias te voorkomen\n",
    "df = df.sample(frac=1, random_state=42).reset_index(drop=True)\n",
    "\n",
    "# Zorg ervoor dat elke ervaring, geslacht en gewichtsklasse in elke set vertegenwoordigd zijn\n",
    "train_data = pd.DataFrame()\n",
    "val_data = pd.DataFrame()\n",
    "test_data = pd.DataFrame()\n",
    "\n",
    "for ervaring in df['ervaring'].unique():\n",
    "    for geslacht in df['binary_geslacht'].unique():\n",
    "        for gewichtsklasse in df['binary_gewichtsklasse'].unique():\n",
    "            subset = df[(df['ervaring'] == ervaring) & (df['binary_geslacht'] == geslacht) & (df['binary_gewichtsklasse'] == gewichtsklasse)]\n",
    "            if not subset.empty:\n",
    "                temp_train, temp_temp = train_test_split(subset, test_size=0.3, random_state=42)\n",
    "                temp_val, temp_test = train_test_split(temp_temp, test_size=0.3, random_state=42)\n",
    "                train_data = pd.concat([train_data, temp_train])\n",
    "                val_data = pd.concat([val_data, temp_val])\n",
    "                test_data = pd.concat([test_data, temp_test])\n",
    "\n",
    "# Reset indexen\n",
    "train_data.reset_index(drop=True, inplace=True)\n",
    "val_data.reset_index(drop=True, inplace=True)\n",
    "test_data.reset_index(drop=True, inplace=True)\n",
    "\n",
    "# Controleren op juiste verdeling\n",
    "print(f\"Trainingsdata: {len(train_data)} rijen\")\n",
    "print(f\"Validatiedata: {len(val_data)} rijen\")\n",
    "print(f\"Testdata: {len(test_data)} rijen\")\n",
    "\n",
    "# Optioneel: data opslaan in aparte bestanden\n",
    "train_data.to_csv('train_data.csv', index=False)\n",
    "val_data.to_csv('val_data.csv', index=False)\n",
    "test_data.to_csv('test_data.csv', index=False)\n",
    "\n",
    "print(df['2k tijd'].min())\n",
    "print(df['2k tijd'].max())"
   ]
  },
  {
   "cell_type": "code",
   "execution_count": 35,
   "metadata": {},
   "outputs": [],
   "source": [
    "X_train = train_data.drop(columns=['2k tijd'])\n",
    "y_train = train_data['2k tijd']\n",
    "\n",
    "X_val = val_data.drop(columns=['2k tijd'])\n",
    "y_val = val_data['2k tijd']\n",
    "\n",
    "X_test = test_data.drop(columns=['2k tijd'])\n",
    "y_test = test_data['2k tijd']"
   ]
  },
  {
   "cell_type": "code",
   "execution_count": 36,
   "metadata": {},
   "outputs": [
    {
     "name": "stdout",
     "output_type": "stream",
     "text": [
      "mse = 50.64223629541192\n",
      "rse = 7.116335875674498\n",
      "[382.7271]\n",
      "[420.69235 426.64517 423.50128 425.944   426.14224 424.70056 419.37814\n",
      " 431.14038 429.8887  423.9475  428.63486 420.9329  427.45816 422.67456\n",
      " 434.2514  428.26776 435.38678 431.96942 415.46893 425.218   418.3372\n",
      " 425.5304  420.175   427.89273 409.3272  425.717   427.99872 417.21582\n",
      " 416.44327 423.44516 424.49875 425.4141  408.55884 419.761   423.8822\n",
      " 428.63486 416.7889  421.29645 415.79913 420.9329  408.04572 427.8236\n",
      " 425.90707 420.6049  423.23502 427.62296 424.95917 422.0626  423.70108\n",
      " 416.62982 425.82904 425.55212 420.69836 417.51126 415.0736  422.18515\n",
      " 424.2229  427.53864 415.01233 419.61395 400.43646 397.29816 413.5838\n",
      " 415.66824 407.53378 414.16113 397.24826 413.69406 394.56924 415.6759\n",
      " 401.77097 406.22937 404.69156 412.98447 407.06516 409.44766 409.6068\n",
      " 414.26135 407.39673 406.16864 416.721   412.31445 408.94092 405.0348\n",
      " 404.908   407.8651  402.55035 408.66446 397.1072  408.1496  411.21906\n",
      " 401.43777 411.1518  404.81995 408.06357 413.4751  397.97183 397.24826\n",
      " 415.76068 400.57825 412.57037 410.08276 407.65927 395.31342 411.29712\n",
      " 406.77066 411.2893  408.59262 411.21906 407.86487 394.10196 395.31342\n",
      " 411.1518  411.60638 388.02432 406.22937 412.57037 404.93378 395.31342\n",
      " 405.34003 410.82047 397.7677  412.46292 416.12787 388.02432 407.15793\n",
      " 412.20575 397.24826 411.3321  397.35257 394.56924 394.58817 415.1204\n",
      " 403.04095 397.1072  408.4271  409.01288 402.45728 410.95334 410.02148\n",
      " 409.3926  413.47635 404.1827  416.48    403.0943  405.08615 407.87766\n",
      " 419.20102 402.5756  411.4087  404.81995 411.29712 398.04202 404.261\n",
      " 403.14087 414.46783 397.74405 415.1204  414.04462 410.83737 397.64725\n",
      " 401.8462  412.83517 409.44766 410.11472 408.59262 411.1522  414.04462\n",
      " 405.16678 405.8798  407.02225 404.81995 402.79196 405.8798  414.84888\n",
      " 410.90924 411.84174 410.95334 402.8706  404.69156 416.72916 401.43777\n",
      " 408.94092 404.69156 411.21906 394.58817 394.10196 414.09567 416.83734\n",
      " 410.11472 411.60638 405.34003 407.1031  407.86487 412.3     402.40576\n",
      " 495.85147 496.19998 501.9177  502.83002 500.0752  499.20087 501.85175\n",
      " 502.83002 498.4558  502.8624  460.44064 460.18887 448.04666 449.86185\n",
      " 456.50916 441.49982 450.0351  460.19412 481.5173  474.9484  459.78964\n",
      " 461.47626 478.00253 476.8869  453.36288 458.66116 452.84836 476.17825\n",
      " 459.80893 471.56082 471.2602  473.45773 448.97037 463.9586  453.88364\n",
      " 458.24817 474.82602 460.44064 460.0763  460.354   461.5744  445.05084\n",
      " 454.2752  462.44263 452.86044 473.97458 481.3212  451.41614 462.41437\n",
      " 477.99744 481.07205 449.23712 452.33853 462.6321  441.72894 463.3347\n",
      " 473.2532  468.3922  456.16177 462.44263 457.76495 463.19998 464.5251\n",
      " 473.2532  454.68576 450.93225 449.38153 473.35992 468.78003 472.0386\n",
      " 470.96585 469.9743  446.3385  472.94504 462.22345 480.68524 450.73724\n",
      " 478.62134 444.49963 445.05084 456.16177 459.1332  465.9899  477.5598\n",
      " 445.04172 455.32224 464.5988  465.12018 471.1821  460.17365 463.3347\n",
      " 471.2602  456.53488 461.60895 452.57623 458.9566  451.74152 466.22864\n",
      " 461.72055 481.5173  472.0896  475.2857  467.73325 462.44037 463.64493\n",
      " 458.24817 451.50278 457.8115  470.06525 455.63922 469.20032 460.80582\n",
      " 448.87448 460.5692  459.1124  465.067   462.3463  478.00253 480.0684\n",
      " 466.12576 459.88232 460.66116 442.65567 485.89017 460.30423 474.81976\n",
      " 454.6862  461.8296  462.54602 459.49255 445.67163 474.29092 482.3661\n",
      " 470.92432 477.5598  465.02383 459.98914 440.4116  477.99744 472.97745\n",
      " 452.26688 449.1995  467.6514  456.3172  452.26688 481.0496  472.70822\n",
      " 475.39465 479.4435  475.6505  467.31094 476.8869  472.97745 477.23013\n",
      " 478.00253 453.08627 475.39465 455.89954 476.84705 465.02383 482.94885\n",
      " 455.89954 460.51617 460.02347 460.19073 455.3828  473.35992 460.2632\n",
      " 470.335   456.67953 460.92014 462.44037 464.85303 456.50797 386.09256\n",
      " 389.36224 380.15167 378.26627 382.7271  383.85123 394.27536 389.43002\n",
      " 389.43002 386.0432  385.5108  384.07196 384.93567 392.38635 381.9783\n",
      " 387.38745 383.74005 382.7271  383.36957 385.1752  379.8735 ]\n"
     ]
    }
   ],
   "source": [
    "from sklearn.metrics import mean_squared_error\n",
    "\n",
    "import xgboost as xgb\n",
    "\n",
    "xgb_model = xgb.XGBRegressor(objective=\"reg:squarederror\", random_state=42, reg_lambda=100)\n",
    "\n",
    "predictions = xgb_model.fit(X_train, y_train)\n",
    "\n",
    "predictions = xgb_model.predict(X_test)\n",
    "\n",
    "mse = mean_squared_error(y_test, predictions)\n",
    "print(f\"mse = {mse}\")\n",
    "\n",
    "rse = np.sqrt(mse)\n",
    "print(f\"rse = {rse}\")\n",
    "\n",
    "predictions = xgb_model.predict(X_test)\n",
    "prediction1 = xgb_model.predict(np.array([[1, 104.6, 0, 0, 1]]))\n",
    "print(prediction1)\n",
    "print(predictions)"
   ]
  },
  {
   "cell_type": "code",
   "execution_count": 37,
   "metadata": {},
   "outputs": [
    {
     "name": "stdout",
     "output_type": "stream",
     "text": [
      "Best lambda (reg_lambda): 100\n"
     ]
    }
   ],
   "source": [
    "\n",
    "param_grid = {'reg_lambda': [0.1, 1, 10, 100, 150, 500]}\n",
    "\n",
    "grid_search = GridSearchCV(estimator=xgb_model, param_grid=param_grid, \n",
    "                           scoring='neg_mean_squared_error', cv=5, n_jobs=-1)\n",
    "\n",
    "grid_search.fit(X_train, y_train)\n",
    "\n",
    "print(\"Best lambda (reg_lambda):\", grid_search.best_params_['reg_lambda'])\n"
   ]
  }
 ],
 "metadata": {
  "kernelspec": {
   "display_name": "base",
   "language": "python",
   "name": "python3"
  },
  "language_info": {
   "codemirror_mode": {
    "name": "ipython",
    "version": 3
   },
   "file_extension": ".py",
   "mimetype": "text/x-python",
   "name": "python",
   "nbconvert_exporter": "python",
   "pygments_lexer": "ipython3",
   "version": "3.12.3"
  }
 },
 "nbformat": 4,
 "nbformat_minor": 2
}
